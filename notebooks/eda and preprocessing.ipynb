{
 "cells": [
  {
   "cell_type": "code",
   "execution_count": 83,
   "id": "11d312db",
   "metadata": {},
   "outputs": [],
   "source": [
    "import pandas as pd\n",
    "import numpy as np\n",
    "import matplotlib.pyplot as plt\n",
    "import seaborn as sns\n",
    "\n",
    "pd.set_option('display.max_columns', None)\n"
   ]
  },
  {
   "cell_type": "markdown",
   "id": "015b404c",
   "metadata": {},
   "source": [
    "Here wer have three data files we will start with KOI cummiliative.."
   ]
  },
  {
   "cell_type": "markdown",
   "id": "e2ac214a",
   "metadata": {},
   "source": [
    "# Kepler Objects of Interest (KOI)\n",
    ": This dataset is a comprehensive list of all confirmed exoplanets, planetary candidates, and false positives determined on all the transits captured by Kepler. Utilizing the variables in this labeled dataset could make for a solid method of performing supervised learning from different variables in the dataset. See column “Disposition Using Kepler Data” for classification."
   ]
  },
  {
   "cell_type": "code",
   "execution_count": 84,
   "id": "4ac9cb37",
   "metadata": {},
   "outputs": [
    {
     "data": {
      "text/html": [
       "<div>\n",
       "<style scoped>\n",
       "    .dataframe tbody tr th:only-of-type {\n",
       "        vertical-align: middle;\n",
       "    }\n",
       "\n",
       "    .dataframe tbody tr th {\n",
       "        vertical-align: top;\n",
       "    }\n",
       "\n",
       "    .dataframe thead th {\n",
       "        text-align: right;\n",
       "    }\n",
       "</style>\n",
       "<table border=\"1\" class=\"dataframe\">\n",
       "  <thead>\n",
       "    <tr style=\"text-align: right;\">\n",
       "      <th></th>\n",
       "      <th>kepid</th>\n",
       "      <th>kepoi_name</th>\n",
       "      <th>kepler_name</th>\n",
       "      <th>koi_disposition</th>\n",
       "      <th>koi_pdisposition</th>\n",
       "      <th>koi_score</th>\n",
       "      <th>koi_fpflag_nt</th>\n",
       "      <th>koi_fpflag_ss</th>\n",
       "      <th>koi_fpflag_co</th>\n",
       "      <th>koi_fpflag_ec</th>\n",
       "      <th>koi_period</th>\n",
       "      <th>koi_period_err1</th>\n",
       "      <th>koi_period_err2</th>\n",
       "      <th>koi_time0bk</th>\n",
       "      <th>koi_time0bk_err1</th>\n",
       "      <th>koi_time0bk_err2</th>\n",
       "      <th>koi_impact</th>\n",
       "      <th>koi_impact_err1</th>\n",
       "      <th>koi_impact_err2</th>\n",
       "      <th>koi_duration</th>\n",
       "      <th>koi_duration_err1</th>\n",
       "      <th>koi_duration_err2</th>\n",
       "      <th>koi_depth</th>\n",
       "      <th>koi_depth_err1</th>\n",
       "      <th>koi_depth_err2</th>\n",
       "      <th>koi_prad</th>\n",
       "      <th>koi_prad_err1</th>\n",
       "      <th>koi_prad_err2</th>\n",
       "      <th>koi_teq</th>\n",
       "      <th>koi_teq_err1</th>\n",
       "      <th>koi_teq_err2</th>\n",
       "      <th>koi_insol</th>\n",
       "      <th>koi_insol_err1</th>\n",
       "      <th>koi_insol_err2</th>\n",
       "      <th>koi_model_snr</th>\n",
       "      <th>koi_tce_plnt_num</th>\n",
       "      <th>koi_tce_delivname</th>\n",
       "      <th>koi_steff</th>\n",
       "      <th>koi_steff_err1</th>\n",
       "      <th>koi_steff_err2</th>\n",
       "      <th>koi_slogg</th>\n",
       "      <th>koi_slogg_err1</th>\n",
       "      <th>koi_slogg_err2</th>\n",
       "      <th>koi_srad</th>\n",
       "      <th>koi_srad_err1</th>\n",
       "      <th>koi_srad_err2</th>\n",
       "      <th>ra</th>\n",
       "      <th>dec</th>\n",
       "      <th>koi_kepmag</th>\n",
       "    </tr>\n",
       "  </thead>\n",
       "  <tbody>\n",
       "    <tr>\n",
       "      <th>0</th>\n",
       "      <td>10797460</td>\n",
       "      <td>K00752.01</td>\n",
       "      <td>Kepler-227 b</td>\n",
       "      <td>CONFIRMED</td>\n",
       "      <td>CANDIDATE</td>\n",
       "      <td>1.000</td>\n",
       "      <td>0</td>\n",
       "      <td>0</td>\n",
       "      <td>0</td>\n",
       "      <td>0</td>\n",
       "      <td>9.488036</td>\n",
       "      <td>2.775000e-05</td>\n",
       "      <td>-2.775000e-05</td>\n",
       "      <td>170.538750</td>\n",
       "      <td>0.002160</td>\n",
       "      <td>-0.002160</td>\n",
       "      <td>0.146</td>\n",
       "      <td>0.318</td>\n",
       "      <td>-0.146</td>\n",
       "      <td>2.95750</td>\n",
       "      <td>0.08190</td>\n",
       "      <td>-0.08190</td>\n",
       "      <td>615.8</td>\n",
       "      <td>19.5</td>\n",
       "      <td>-19.5</td>\n",
       "      <td>2.26</td>\n",
       "      <td>0.26</td>\n",
       "      <td>-0.15</td>\n",
       "      <td>793.0</td>\n",
       "      <td>NaN</td>\n",
       "      <td>NaN</td>\n",
       "      <td>93.59</td>\n",
       "      <td>29.45</td>\n",
       "      <td>-16.65</td>\n",
       "      <td>35.8</td>\n",
       "      <td>1.0</td>\n",
       "      <td>q1_q17_dr25_tce</td>\n",
       "      <td>5455.0</td>\n",
       "      <td>81.0</td>\n",
       "      <td>-81.0</td>\n",
       "      <td>4.467</td>\n",
       "      <td>0.064</td>\n",
       "      <td>-0.096</td>\n",
       "      <td>0.927</td>\n",
       "      <td>0.105</td>\n",
       "      <td>-0.061</td>\n",
       "      <td>291.93423</td>\n",
       "      <td>48.141651</td>\n",
       "      <td>15.347</td>\n",
       "    </tr>\n",
       "    <tr>\n",
       "      <th>1</th>\n",
       "      <td>10797460</td>\n",
       "      <td>K00752.02</td>\n",
       "      <td>Kepler-227 c</td>\n",
       "      <td>CONFIRMED</td>\n",
       "      <td>CANDIDATE</td>\n",
       "      <td>0.969</td>\n",
       "      <td>0</td>\n",
       "      <td>0</td>\n",
       "      <td>0</td>\n",
       "      <td>0</td>\n",
       "      <td>54.418383</td>\n",
       "      <td>2.479000e-04</td>\n",
       "      <td>-2.479000e-04</td>\n",
       "      <td>162.513840</td>\n",
       "      <td>0.003520</td>\n",
       "      <td>-0.003520</td>\n",
       "      <td>0.586</td>\n",
       "      <td>0.059</td>\n",
       "      <td>-0.443</td>\n",
       "      <td>4.50700</td>\n",
       "      <td>0.11600</td>\n",
       "      <td>-0.11600</td>\n",
       "      <td>874.8</td>\n",
       "      <td>35.5</td>\n",
       "      <td>-35.5</td>\n",
       "      <td>2.83</td>\n",
       "      <td>0.32</td>\n",
       "      <td>-0.19</td>\n",
       "      <td>443.0</td>\n",
       "      <td>NaN</td>\n",
       "      <td>NaN</td>\n",
       "      <td>9.11</td>\n",
       "      <td>2.87</td>\n",
       "      <td>-1.62</td>\n",
       "      <td>25.8</td>\n",
       "      <td>2.0</td>\n",
       "      <td>q1_q17_dr25_tce</td>\n",
       "      <td>5455.0</td>\n",
       "      <td>81.0</td>\n",
       "      <td>-81.0</td>\n",
       "      <td>4.467</td>\n",
       "      <td>0.064</td>\n",
       "      <td>-0.096</td>\n",
       "      <td>0.927</td>\n",
       "      <td>0.105</td>\n",
       "      <td>-0.061</td>\n",
       "      <td>291.93423</td>\n",
       "      <td>48.141651</td>\n",
       "      <td>15.347</td>\n",
       "    </tr>\n",
       "    <tr>\n",
       "      <th>2</th>\n",
       "      <td>10811496</td>\n",
       "      <td>K00753.01</td>\n",
       "      <td>NaN</td>\n",
       "      <td>CANDIDATE</td>\n",
       "      <td>CANDIDATE</td>\n",
       "      <td>0.000</td>\n",
       "      <td>0</td>\n",
       "      <td>0</td>\n",
       "      <td>0</td>\n",
       "      <td>0</td>\n",
       "      <td>19.899140</td>\n",
       "      <td>1.494000e-05</td>\n",
       "      <td>-1.494000e-05</td>\n",
       "      <td>175.850252</td>\n",
       "      <td>0.000581</td>\n",
       "      <td>-0.000581</td>\n",
       "      <td>0.969</td>\n",
       "      <td>5.126</td>\n",
       "      <td>-0.077</td>\n",
       "      <td>1.78220</td>\n",
       "      <td>0.03410</td>\n",
       "      <td>-0.03410</td>\n",
       "      <td>10829.0</td>\n",
       "      <td>171.0</td>\n",
       "      <td>-171.0</td>\n",
       "      <td>14.60</td>\n",
       "      <td>3.92</td>\n",
       "      <td>-1.31</td>\n",
       "      <td>638.0</td>\n",
       "      <td>NaN</td>\n",
       "      <td>NaN</td>\n",
       "      <td>39.30</td>\n",
       "      <td>31.04</td>\n",
       "      <td>-10.49</td>\n",
       "      <td>76.3</td>\n",
       "      <td>1.0</td>\n",
       "      <td>q1_q17_dr25_tce</td>\n",
       "      <td>5853.0</td>\n",
       "      <td>158.0</td>\n",
       "      <td>-176.0</td>\n",
       "      <td>4.544</td>\n",
       "      <td>0.044</td>\n",
       "      <td>-0.176</td>\n",
       "      <td>0.868</td>\n",
       "      <td>0.233</td>\n",
       "      <td>-0.078</td>\n",
       "      <td>297.00482</td>\n",
       "      <td>48.134129</td>\n",
       "      <td>15.436</td>\n",
       "    </tr>\n",
       "    <tr>\n",
       "      <th>3</th>\n",
       "      <td>10848459</td>\n",
       "      <td>K00754.01</td>\n",
       "      <td>NaN</td>\n",
       "      <td>FALSE POSITIVE</td>\n",
       "      <td>FALSE POSITIVE</td>\n",
       "      <td>0.000</td>\n",
       "      <td>0</td>\n",
       "      <td>1</td>\n",
       "      <td>0</td>\n",
       "      <td>0</td>\n",
       "      <td>1.736952</td>\n",
       "      <td>2.630000e-07</td>\n",
       "      <td>-2.630000e-07</td>\n",
       "      <td>170.307565</td>\n",
       "      <td>0.000115</td>\n",
       "      <td>-0.000115</td>\n",
       "      <td>1.276</td>\n",
       "      <td>0.115</td>\n",
       "      <td>-0.092</td>\n",
       "      <td>2.40641</td>\n",
       "      <td>0.00537</td>\n",
       "      <td>-0.00537</td>\n",
       "      <td>8079.2</td>\n",
       "      <td>12.8</td>\n",
       "      <td>-12.8</td>\n",
       "      <td>33.46</td>\n",
       "      <td>8.50</td>\n",
       "      <td>-2.83</td>\n",
       "      <td>1395.0</td>\n",
       "      <td>NaN</td>\n",
       "      <td>NaN</td>\n",
       "      <td>891.96</td>\n",
       "      <td>668.95</td>\n",
       "      <td>-230.35</td>\n",
       "      <td>505.6</td>\n",
       "      <td>1.0</td>\n",
       "      <td>q1_q17_dr25_tce</td>\n",
       "      <td>5805.0</td>\n",
       "      <td>157.0</td>\n",
       "      <td>-174.0</td>\n",
       "      <td>4.564</td>\n",
       "      <td>0.053</td>\n",
       "      <td>-0.168</td>\n",
       "      <td>0.791</td>\n",
       "      <td>0.201</td>\n",
       "      <td>-0.067</td>\n",
       "      <td>285.53461</td>\n",
       "      <td>48.285210</td>\n",
       "      <td>15.597</td>\n",
       "    </tr>\n",
       "    <tr>\n",
       "      <th>4</th>\n",
       "      <td>10854555</td>\n",
       "      <td>K00755.01</td>\n",
       "      <td>Kepler-664 b</td>\n",
       "      <td>CONFIRMED</td>\n",
       "      <td>CANDIDATE</td>\n",
       "      <td>1.000</td>\n",
       "      <td>0</td>\n",
       "      <td>0</td>\n",
       "      <td>0</td>\n",
       "      <td>0</td>\n",
       "      <td>2.525592</td>\n",
       "      <td>3.761000e-06</td>\n",
       "      <td>-3.761000e-06</td>\n",
       "      <td>171.595550</td>\n",
       "      <td>0.001130</td>\n",
       "      <td>-0.001130</td>\n",
       "      <td>0.701</td>\n",
       "      <td>0.235</td>\n",
       "      <td>-0.478</td>\n",
       "      <td>1.65450</td>\n",
       "      <td>0.04200</td>\n",
       "      <td>-0.04200</td>\n",
       "      <td>603.3</td>\n",
       "      <td>16.9</td>\n",
       "      <td>-16.9</td>\n",
       "      <td>2.75</td>\n",
       "      <td>0.88</td>\n",
       "      <td>-0.35</td>\n",
       "      <td>1406.0</td>\n",
       "      <td>NaN</td>\n",
       "      <td>NaN</td>\n",
       "      <td>926.16</td>\n",
       "      <td>874.33</td>\n",
       "      <td>-314.24</td>\n",
       "      <td>40.9</td>\n",
       "      <td>1.0</td>\n",
       "      <td>q1_q17_dr25_tce</td>\n",
       "      <td>6031.0</td>\n",
       "      <td>169.0</td>\n",
       "      <td>-211.0</td>\n",
       "      <td>4.438</td>\n",
       "      <td>0.070</td>\n",
       "      <td>-0.210</td>\n",
       "      <td>1.046</td>\n",
       "      <td>0.334</td>\n",
       "      <td>-0.133</td>\n",
       "      <td>288.75488</td>\n",
       "      <td>48.226200</td>\n",
       "      <td>15.509</td>\n",
       "    </tr>\n",
       "  </tbody>\n",
       "</table>\n",
       "</div>"
      ],
      "text/plain": [
       "      kepid kepoi_name   kepler_name koi_disposition koi_pdisposition  \\\n",
       "0  10797460  K00752.01  Kepler-227 b       CONFIRMED        CANDIDATE   \n",
       "1  10797460  K00752.02  Kepler-227 c       CONFIRMED        CANDIDATE   \n",
       "2  10811496  K00753.01           NaN       CANDIDATE        CANDIDATE   \n",
       "3  10848459  K00754.01           NaN  FALSE POSITIVE   FALSE POSITIVE   \n",
       "4  10854555  K00755.01  Kepler-664 b       CONFIRMED        CANDIDATE   \n",
       "\n",
       "   koi_score  koi_fpflag_nt  koi_fpflag_ss  koi_fpflag_co  koi_fpflag_ec  \\\n",
       "0      1.000              0              0              0              0   \n",
       "1      0.969              0              0              0              0   \n",
       "2      0.000              0              0              0              0   \n",
       "3      0.000              0              1              0              0   \n",
       "4      1.000              0              0              0              0   \n",
       "\n",
       "   koi_period  koi_period_err1  koi_period_err2  koi_time0bk  \\\n",
       "0    9.488036     2.775000e-05    -2.775000e-05   170.538750   \n",
       "1   54.418383     2.479000e-04    -2.479000e-04   162.513840   \n",
       "2   19.899140     1.494000e-05    -1.494000e-05   175.850252   \n",
       "3    1.736952     2.630000e-07    -2.630000e-07   170.307565   \n",
       "4    2.525592     3.761000e-06    -3.761000e-06   171.595550   \n",
       "\n",
       "   koi_time0bk_err1  koi_time0bk_err2  koi_impact  koi_impact_err1  \\\n",
       "0          0.002160         -0.002160       0.146            0.318   \n",
       "1          0.003520         -0.003520       0.586            0.059   \n",
       "2          0.000581         -0.000581       0.969            5.126   \n",
       "3          0.000115         -0.000115       1.276            0.115   \n",
       "4          0.001130         -0.001130       0.701            0.235   \n",
       "\n",
       "   koi_impact_err2  koi_duration  koi_duration_err1  koi_duration_err2  \\\n",
       "0           -0.146       2.95750            0.08190           -0.08190   \n",
       "1           -0.443       4.50700            0.11600           -0.11600   \n",
       "2           -0.077       1.78220            0.03410           -0.03410   \n",
       "3           -0.092       2.40641            0.00537           -0.00537   \n",
       "4           -0.478       1.65450            0.04200           -0.04200   \n",
       "\n",
       "   koi_depth  koi_depth_err1  koi_depth_err2  koi_prad  koi_prad_err1  \\\n",
       "0      615.8            19.5           -19.5      2.26           0.26   \n",
       "1      874.8            35.5           -35.5      2.83           0.32   \n",
       "2    10829.0           171.0          -171.0     14.60           3.92   \n",
       "3     8079.2            12.8           -12.8     33.46           8.50   \n",
       "4      603.3            16.9           -16.9      2.75           0.88   \n",
       "\n",
       "   koi_prad_err2  koi_teq  koi_teq_err1  koi_teq_err2  koi_insol  \\\n",
       "0          -0.15    793.0           NaN           NaN      93.59   \n",
       "1          -0.19    443.0           NaN           NaN       9.11   \n",
       "2          -1.31    638.0           NaN           NaN      39.30   \n",
       "3          -2.83   1395.0           NaN           NaN     891.96   \n",
       "4          -0.35   1406.0           NaN           NaN     926.16   \n",
       "\n",
       "   koi_insol_err1  koi_insol_err2  koi_model_snr  koi_tce_plnt_num  \\\n",
       "0           29.45          -16.65           35.8               1.0   \n",
       "1            2.87           -1.62           25.8               2.0   \n",
       "2           31.04          -10.49           76.3               1.0   \n",
       "3          668.95         -230.35          505.6               1.0   \n",
       "4          874.33         -314.24           40.9               1.0   \n",
       "\n",
       "  koi_tce_delivname  koi_steff  koi_steff_err1  koi_steff_err2  koi_slogg  \\\n",
       "0   q1_q17_dr25_tce     5455.0            81.0           -81.0      4.467   \n",
       "1   q1_q17_dr25_tce     5455.0            81.0           -81.0      4.467   \n",
       "2   q1_q17_dr25_tce     5853.0           158.0          -176.0      4.544   \n",
       "3   q1_q17_dr25_tce     5805.0           157.0          -174.0      4.564   \n",
       "4   q1_q17_dr25_tce     6031.0           169.0          -211.0      4.438   \n",
       "\n",
       "   koi_slogg_err1  koi_slogg_err2  koi_srad  koi_srad_err1  koi_srad_err2  \\\n",
       "0           0.064          -0.096     0.927          0.105         -0.061   \n",
       "1           0.064          -0.096     0.927          0.105         -0.061   \n",
       "2           0.044          -0.176     0.868          0.233         -0.078   \n",
       "3           0.053          -0.168     0.791          0.201         -0.067   \n",
       "4           0.070          -0.210     1.046          0.334         -0.133   \n",
       "\n",
       "          ra        dec  koi_kepmag  \n",
       "0  291.93423  48.141651      15.347  \n",
       "1  291.93423  48.141651      15.347  \n",
       "2  297.00482  48.134129      15.436  \n",
       "3  285.53461  48.285210      15.597  \n",
       "4  288.75488  48.226200      15.509  "
      ]
     },
     "execution_count": 84,
     "metadata": {},
     "output_type": "execute_result"
    }
   ],
   "source": [
    "df_KOI = pd.read_csv('../Data/cumulative_2025.09.22_16.04.13.csv')\n",
    "\n",
    "df_KOI.head()"
   ]
  },
  {
   "cell_type": "code",
   "execution_count": 85,
   "id": "5b8a71e2",
   "metadata": {},
   "outputs": [
    {
     "data": {
      "text/plain": [
       "Index(['kepid', 'kepoi_name', 'kepler_name', 'koi_disposition',\n",
       "       'koi_pdisposition', 'koi_score', 'koi_fpflag_nt', 'koi_fpflag_ss',\n",
       "       'koi_fpflag_co', 'koi_fpflag_ec', 'koi_period', 'koi_period_err1',\n",
       "       'koi_period_err2', 'koi_time0bk', 'koi_time0bk_err1',\n",
       "       'koi_time0bk_err2', 'koi_impact', 'koi_impact_err1', 'koi_impact_err2',\n",
       "       'koi_duration', 'koi_duration_err1', 'koi_duration_err2', 'koi_depth',\n",
       "       'koi_depth_err1', 'koi_depth_err2', 'koi_prad', 'koi_prad_err1',\n",
       "       'koi_prad_err2', 'koi_teq', 'koi_teq_err1', 'koi_teq_err2', 'koi_insol',\n",
       "       'koi_insol_err1', 'koi_insol_err2', 'koi_model_snr', 'koi_tce_plnt_num',\n",
       "       'koi_tce_delivname', 'koi_steff', 'koi_steff_err1', 'koi_steff_err2',\n",
       "       'koi_slogg', 'koi_slogg_err1', 'koi_slogg_err2', 'koi_srad',\n",
       "       'koi_srad_err1', 'koi_srad_err2', 'ra', 'dec', 'koi_kepmag'],\n",
       "      dtype='object')"
      ]
     },
     "execution_count": 85,
     "metadata": {},
     "output_type": "execute_result"
    }
   ],
   "source": [
    "df_KOI.columns"
   ]
  },
  {
   "cell_type": "code",
   "execution_count": null,
   "id": "1c0e1791",
   "metadata": {},
   "outputs": [],
   "source": []
  },
  {
   "cell_type": "code",
   "execution_count": 86,
   "id": "b8135694",
   "metadata": {},
   "outputs": [
    {
     "data": {
      "text/plain": [
       "(9564, 49)"
      ]
     },
     "execution_count": 86,
     "metadata": {},
     "output_type": "execute_result"
    }
   ],
   "source": [
    "df_KOI.shape"
   ]
  },
  {
   "cell_type": "markdown",
   "id": "802cc774",
   "metadata": {},
   "source": [
    "# K2 Planets and Candidates\n",
    ": This dataset is a comprehensive list of all confirmed exoplanets, planetary candidates, and false positives determined on all the transits captured by the K2 mission. See the “Archive Disposition” column for classification."
   ]
  },
  {
   "cell_type": "code",
   "execution_count": 87,
   "id": "0b04d5e5",
   "metadata": {},
   "outputs": [
    {
     "data": {
      "text/html": [
       "<div>\n",
       "<style scoped>\n",
       "    .dataframe tbody tr th:only-of-type {\n",
       "        vertical-align: middle;\n",
       "    }\n",
       "\n",
       "    .dataframe tbody tr th {\n",
       "        vertical-align: top;\n",
       "    }\n",
       "\n",
       "    .dataframe thead th {\n",
       "        text-align: right;\n",
       "    }\n",
       "</style>\n",
       "<table border=\"1\" class=\"dataframe\">\n",
       "  <thead>\n",
       "    <tr style=\"text-align: right;\">\n",
       "      <th></th>\n",
       "      <th>pl_name</th>\n",
       "      <th>hostname</th>\n",
       "      <th>default_flag</th>\n",
       "      <th>disposition</th>\n",
       "      <th>disp_refname</th>\n",
       "      <th>sy_snum</th>\n",
       "      <th>sy_pnum</th>\n",
       "      <th>discoverymethod</th>\n",
       "      <th>disc_year</th>\n",
       "      <th>disc_facility</th>\n",
       "      <th>soltype</th>\n",
       "      <th>pl_controv_flag</th>\n",
       "      <th>pl_refname</th>\n",
       "      <th>pl_orbper</th>\n",
       "      <th>pl_orbpererr1</th>\n",
       "      <th>pl_orbpererr2</th>\n",
       "      <th>pl_orbperlim</th>\n",
       "      <th>pl_orbsmax</th>\n",
       "      <th>pl_orbsmaxerr1</th>\n",
       "      <th>pl_orbsmaxerr2</th>\n",
       "      <th>pl_orbsmaxlim</th>\n",
       "      <th>pl_rade</th>\n",
       "      <th>pl_radeerr1</th>\n",
       "      <th>pl_radeerr2</th>\n",
       "      <th>pl_radelim</th>\n",
       "      <th>pl_radj</th>\n",
       "      <th>pl_radjerr1</th>\n",
       "      <th>pl_radjerr2</th>\n",
       "      <th>pl_radjlim</th>\n",
       "      <th>pl_bmasse</th>\n",
       "      <th>pl_bmasseerr1</th>\n",
       "      <th>pl_bmasseerr2</th>\n",
       "      <th>pl_bmasselim</th>\n",
       "      <th>pl_bmassj</th>\n",
       "      <th>pl_bmassjerr1</th>\n",
       "      <th>pl_bmassjerr2</th>\n",
       "      <th>pl_bmassjlim</th>\n",
       "      <th>pl_bmassprov</th>\n",
       "      <th>pl_orbeccen</th>\n",
       "      <th>pl_orbeccenerr1</th>\n",
       "      <th>pl_orbeccenerr2</th>\n",
       "      <th>pl_orbeccenlim</th>\n",
       "      <th>pl_insol</th>\n",
       "      <th>pl_insolerr1</th>\n",
       "      <th>pl_insolerr2</th>\n",
       "      <th>pl_insollim</th>\n",
       "      <th>pl_eqt</th>\n",
       "      <th>pl_eqterr1</th>\n",
       "      <th>pl_eqterr2</th>\n",
       "      <th>pl_eqtlim</th>\n",
       "      <th>ttv_flag</th>\n",
       "      <th>st_refname</th>\n",
       "      <th>st_spectype</th>\n",
       "      <th>st_teff</th>\n",
       "      <th>st_tefferr1</th>\n",
       "      <th>st_tefferr2</th>\n",
       "      <th>st_tefflim</th>\n",
       "      <th>st_rad</th>\n",
       "      <th>st_raderr1</th>\n",
       "      <th>st_raderr2</th>\n",
       "      <th>st_radlim</th>\n",
       "      <th>st_mass</th>\n",
       "      <th>st_masserr1</th>\n",
       "      <th>st_masserr2</th>\n",
       "      <th>st_masslim</th>\n",
       "      <th>st_met</th>\n",
       "      <th>st_meterr1</th>\n",
       "      <th>st_meterr2</th>\n",
       "      <th>st_metlim</th>\n",
       "      <th>st_metratio</th>\n",
       "      <th>st_logg</th>\n",
       "      <th>st_loggerr1</th>\n",
       "      <th>st_loggerr2</th>\n",
       "      <th>st_logglim</th>\n",
       "      <th>sy_refname</th>\n",
       "      <th>rastr</th>\n",
       "      <th>ra</th>\n",
       "      <th>decstr</th>\n",
       "      <th>dec</th>\n",
       "      <th>sy_dist</th>\n",
       "      <th>sy_disterr1</th>\n",
       "      <th>sy_disterr2</th>\n",
       "      <th>sy_vmag</th>\n",
       "      <th>sy_vmagerr1</th>\n",
       "      <th>sy_vmagerr2</th>\n",
       "      <th>sy_kmag</th>\n",
       "      <th>sy_kmagerr1</th>\n",
       "      <th>sy_kmagerr2</th>\n",
       "      <th>sy_gaiamag</th>\n",
       "      <th>sy_gaiamagerr1</th>\n",
       "      <th>sy_gaiamagerr2</th>\n",
       "      <th>rowupdate</th>\n",
       "      <th>pl_pubdate</th>\n",
       "      <th>releasedate</th>\n",
       "    </tr>\n",
       "  </thead>\n",
       "  <tbody>\n",
       "    <tr>\n",
       "      <th>0</th>\n",
       "      <td>BD+20 594 b</td>\n",
       "      <td>BD+20 594</td>\n",
       "      <td>0</td>\n",
       "      <td>CONFIRMED</td>\n",
       "      <td>Espinoza et al. 2016</td>\n",
       "      <td>1</td>\n",
       "      <td>1</td>\n",
       "      <td>Transit</td>\n",
       "      <td>2016</td>\n",
       "      <td>K2</td>\n",
       "      <td>Published Confirmed</td>\n",
       "      <td>0</td>\n",
       "      <td>&lt;a refstr=MAYO_ET_AL__2018 href=https://ui.ads...</td>\n",
       "      <td>41.688644</td>\n",
       "      <td>0.003353</td>\n",
       "      <td>-0.003419</td>\n",
       "      <td>0.0</td>\n",
       "      <td>NaN</td>\n",
       "      <td>NaN</td>\n",
       "      <td>NaN</td>\n",
       "      <td>NaN</td>\n",
       "      <td>2.355454</td>\n",
       "      <td>0.310000</td>\n",
       "      <td>-0.166773</td>\n",
       "      <td>0.0</td>\n",
       "      <td>0.210139</td>\n",
       "      <td>0.027656</td>\n",
       "      <td>-0.014878</td>\n",
       "      <td>0.0</td>\n",
       "      <td>NaN</td>\n",
       "      <td>NaN</td>\n",
       "      <td>NaN</td>\n",
       "      <td>NaN</td>\n",
       "      <td>NaN</td>\n",
       "      <td>NaN</td>\n",
       "      <td>NaN</td>\n",
       "      <td>NaN</td>\n",
       "      <td>NaN</td>\n",
       "      <td>NaN</td>\n",
       "      <td>NaN</td>\n",
       "      <td>NaN</td>\n",
       "      <td>NaN</td>\n",
       "      <td>NaN</td>\n",
       "      <td>NaN</td>\n",
       "      <td>NaN</td>\n",
       "      <td>NaN</td>\n",
       "      <td>NaN</td>\n",
       "      <td>NaN</td>\n",
       "      <td>NaN</td>\n",
       "      <td>NaN</td>\n",
       "      <td>0</td>\n",
       "      <td>&lt;a refstr=MAYO_ET_AL__2018 href=https://ui.ads...</td>\n",
       "      <td>NaN</td>\n",
       "      <td>5703.00</td>\n",
       "      <td>50.00</td>\n",
       "      <td>-50.00</td>\n",
       "      <td>0.0</td>\n",
       "      <td>0.956122</td>\n",
       "      <td>0.098585</td>\n",
       "      <td>-0.054675</td>\n",
       "      <td>0.0</td>\n",
       "      <td>0.963861</td>\n",
       "      <td>0.029568</td>\n",
       "      <td>-0.032166</td>\n",
       "      <td>0.0</td>\n",
       "      <td>-0.06</td>\n",
       "      <td>0.080</td>\n",
       "      <td>-0.080</td>\n",
       "      <td>0.0</td>\n",
       "      <td>[Fe/H]</td>\n",
       "      <td>4.38000</td>\n",
       "      <td>0.100000</td>\n",
       "      <td>-0.100000</td>\n",
       "      <td>0.0</td>\n",
       "      <td>&lt;a refstr=STASSUN_ET_AL__2019 href=https://ui....</td>\n",
       "      <td>03h34m36.27s</td>\n",
       "      <td>53.651123</td>\n",
       "      <td>+20d35m56.47s</td>\n",
       "      <td>20.599021</td>\n",
       "      <td>179.4610</td>\n",
       "      <td>1.2570</td>\n",
       "      <td>-1.2400</td>\n",
       "      <td>10.849</td>\n",
       "      <td>0.012</td>\n",
       "      <td>-0.012</td>\n",
       "      <td>9.368</td>\n",
       "      <td>0.018</td>\n",
       "      <td>-0.018</td>\n",
       "      <td>10.8644</td>\n",
       "      <td>0.000249</td>\n",
       "      <td>-0.000249</td>\n",
       "      <td>2018-04-25</td>\n",
       "      <td>2018-03</td>\n",
       "      <td>2018-02-15</td>\n",
       "    </tr>\n",
       "    <tr>\n",
       "      <th>1</th>\n",
       "      <td>BD+20 594 b</td>\n",
       "      <td>BD+20 594</td>\n",
       "      <td>0</td>\n",
       "      <td>CONFIRMED</td>\n",
       "      <td>Espinoza et al. 2016</td>\n",
       "      <td>1</td>\n",
       "      <td>1</td>\n",
       "      <td>Transit</td>\n",
       "      <td>2016</td>\n",
       "      <td>K2</td>\n",
       "      <td>Published Confirmed</td>\n",
       "      <td>0</td>\n",
       "      <td>&lt;a refstr=ESPINOZA_ET_AL__2016 href=https://ui...</td>\n",
       "      <td>41.685500</td>\n",
       "      <td>0.003000</td>\n",
       "      <td>-0.003100</td>\n",
       "      <td>0.0</td>\n",
       "      <td>0.241</td>\n",
       "      <td>0.019</td>\n",
       "      <td>-0.017</td>\n",
       "      <td>0.0</td>\n",
       "      <td>2.230000</td>\n",
       "      <td>0.140000</td>\n",
       "      <td>-0.110000</td>\n",
       "      <td>0.0</td>\n",
       "      <td>0.198947</td>\n",
       "      <td>0.012490</td>\n",
       "      <td>-0.009814</td>\n",
       "      <td>0.0</td>\n",
       "      <td>16.3000</td>\n",
       "      <td>6.0000</td>\n",
       "      <td>-6.1000</td>\n",
       "      <td>0.0</td>\n",
       "      <td>0.051285</td>\n",
       "      <td>0.018878</td>\n",
       "      <td>-0.019193</td>\n",
       "      <td>0.0</td>\n",
       "      <td>Mass</td>\n",
       "      <td>0.0</td>\n",
       "      <td>NaN</td>\n",
       "      <td>NaN</td>\n",
       "      <td>0.0</td>\n",
       "      <td>NaN</td>\n",
       "      <td>NaN</td>\n",
       "      <td>NaN</td>\n",
       "      <td>NaN</td>\n",
       "      <td>546.0</td>\n",
       "      <td>19.0</td>\n",
       "      <td>-18.0</td>\n",
       "      <td>0.0</td>\n",
       "      <td>0</td>\n",
       "      <td>&lt;a refstr=ESPINOZA_ET_AL__2016 href=https://ui...</td>\n",
       "      <td>G</td>\n",
       "      <td>5766.00</td>\n",
       "      <td>99.00</td>\n",
       "      <td>-99.00</td>\n",
       "      <td>0.0</td>\n",
       "      <td>0.928000</td>\n",
       "      <td>0.055000</td>\n",
       "      <td>-0.040000</td>\n",
       "      <td>0.0</td>\n",
       "      <td>0.961000</td>\n",
       "      <td>0.032000</td>\n",
       "      <td>-0.029000</td>\n",
       "      <td>0.0</td>\n",
       "      <td>-0.15</td>\n",
       "      <td>0.050</td>\n",
       "      <td>-0.050</td>\n",
       "      <td>0.0</td>\n",
       "      <td>[Fe/H]</td>\n",
       "      <td>4.50000</td>\n",
       "      <td>0.080000</td>\n",
       "      <td>-0.080000</td>\n",
       "      <td>0.0</td>\n",
       "      <td>&lt;a refstr=STASSUN_ET_AL__2019 href=https://ui....</td>\n",
       "      <td>03h34m36.27s</td>\n",
       "      <td>53.651123</td>\n",
       "      <td>+20d35m56.47s</td>\n",
       "      <td>20.599021</td>\n",
       "      <td>179.4610</td>\n",
       "      <td>1.2570</td>\n",
       "      <td>-1.2400</td>\n",
       "      <td>10.849</td>\n",
       "      <td>0.012</td>\n",
       "      <td>-0.012</td>\n",
       "      <td>9.368</td>\n",
       "      <td>0.018</td>\n",
       "      <td>-0.018</td>\n",
       "      <td>10.8644</td>\n",
       "      <td>0.000249</td>\n",
       "      <td>-0.000249</td>\n",
       "      <td>2018-04-25</td>\n",
       "      <td>2016-10</td>\n",
       "      <td>2016-07-28</td>\n",
       "    </tr>\n",
       "    <tr>\n",
       "      <th>2</th>\n",
       "      <td>BD+20 594 b</td>\n",
       "      <td>BD+20 594</td>\n",
       "      <td>1</td>\n",
       "      <td>CONFIRMED</td>\n",
       "      <td>Espinoza et al. 2016</td>\n",
       "      <td>1</td>\n",
       "      <td>1</td>\n",
       "      <td>Transit</td>\n",
       "      <td>2016</td>\n",
       "      <td>K2</td>\n",
       "      <td>Published Confirmed</td>\n",
       "      <td>0</td>\n",
       "      <td>&lt;a refstr=STASSUN_ET_AL__2017 href=https://ui....</td>\n",
       "      <td>41.685500</td>\n",
       "      <td>0.003000</td>\n",
       "      <td>-0.003000</td>\n",
       "      <td>0.0</td>\n",
       "      <td>NaN</td>\n",
       "      <td>NaN</td>\n",
       "      <td>NaN</td>\n",
       "      <td>NaN</td>\n",
       "      <td>2.578070</td>\n",
       "      <td>0.112090</td>\n",
       "      <td>-0.112090</td>\n",
       "      <td>0.0</td>\n",
       "      <td>0.230000</td>\n",
       "      <td>0.010000</td>\n",
       "      <td>-0.010000</td>\n",
       "      <td>0.0</td>\n",
       "      <td>22.2481</td>\n",
       "      <td>9.5349</td>\n",
       "      <td>-9.5349</td>\n",
       "      <td>0.0</td>\n",
       "      <td>0.070000</td>\n",
       "      <td>0.030000</td>\n",
       "      <td>-0.030000</td>\n",
       "      <td>0.0</td>\n",
       "      <td>Mass</td>\n",
       "      <td>0.0</td>\n",
       "      <td>NaN</td>\n",
       "      <td>NaN</td>\n",
       "      <td>0.0</td>\n",
       "      <td>NaN</td>\n",
       "      <td>NaN</td>\n",
       "      <td>NaN</td>\n",
       "      <td>NaN</td>\n",
       "      <td>NaN</td>\n",
       "      <td>NaN</td>\n",
       "      <td>NaN</td>\n",
       "      <td>NaN</td>\n",
       "      <td>0</td>\n",
       "      <td>&lt;a refstr=STASSUN_ET_AL__2017 href=https://ui....</td>\n",
       "      <td>NaN</td>\n",
       "      <td>5766.00</td>\n",
       "      <td>99.00</td>\n",
       "      <td>-99.00</td>\n",
       "      <td>0.0</td>\n",
       "      <td>1.080000</td>\n",
       "      <td>0.060000</td>\n",
       "      <td>-0.060000</td>\n",
       "      <td>0.0</td>\n",
       "      <td>1.670000</td>\n",
       "      <td>0.400000</td>\n",
       "      <td>-0.400000</td>\n",
       "      <td>0.0</td>\n",
       "      <td>-0.15</td>\n",
       "      <td>NaN</td>\n",
       "      <td>NaN</td>\n",
       "      <td>0.0</td>\n",
       "      <td>[Fe/H]</td>\n",
       "      <td>4.50000</td>\n",
       "      <td>0.080000</td>\n",
       "      <td>-0.080000</td>\n",
       "      <td>0.0</td>\n",
       "      <td>&lt;a refstr=STASSUN_ET_AL__2019 href=https://ui....</td>\n",
       "      <td>03h34m36.27s</td>\n",
       "      <td>53.651123</td>\n",
       "      <td>+20d35m56.47s</td>\n",
       "      <td>20.599021</td>\n",
       "      <td>179.4610</td>\n",
       "      <td>1.2570</td>\n",
       "      <td>-1.2400</td>\n",
       "      <td>10.849</td>\n",
       "      <td>0.012</td>\n",
       "      <td>-0.012</td>\n",
       "      <td>9.368</td>\n",
       "      <td>0.018</td>\n",
       "      <td>-0.018</td>\n",
       "      <td>10.8644</td>\n",
       "      <td>0.000249</td>\n",
       "      <td>-0.000249</td>\n",
       "      <td>2018-04-25</td>\n",
       "      <td>2017-03</td>\n",
       "      <td>2018-04-26</td>\n",
       "    </tr>\n",
       "    <tr>\n",
       "      <th>3</th>\n",
       "      <td>EPIC 201111557.01</td>\n",
       "      <td>EPIC 201111557</td>\n",
       "      <td>0</td>\n",
       "      <td>CANDIDATE</td>\n",
       "      <td>Livingston et al. 2018</td>\n",
       "      <td>1</td>\n",
       "      <td>0</td>\n",
       "      <td>Transit</td>\n",
       "      <td>2018</td>\n",
       "      <td>K2</td>\n",
       "      <td>Published Candidate</td>\n",
       "      <td>0</td>\n",
       "      <td>&lt;a refstr=MAYO_ET_AL__2018 href=https://ui.ads...</td>\n",
       "      <td>2.302368</td>\n",
       "      <td>0.000105</td>\n",
       "      <td>-0.000103</td>\n",
       "      <td>0.0</td>\n",
       "      <td>NaN</td>\n",
       "      <td>NaN</td>\n",
       "      <td>NaN</td>\n",
       "      <td>NaN</td>\n",
       "      <td>1.312588</td>\n",
       "      <td>0.524177</td>\n",
       "      <td>-0.120814</td>\n",
       "      <td>0.0</td>\n",
       "      <td>0.120000</td>\n",
       "      <td>0.050000</td>\n",
       "      <td>-0.010000</td>\n",
       "      <td>0.0</td>\n",
       "      <td>NaN</td>\n",
       "      <td>NaN</td>\n",
       "      <td>NaN</td>\n",
       "      <td>NaN</td>\n",
       "      <td>NaN</td>\n",
       "      <td>NaN</td>\n",
       "      <td>NaN</td>\n",
       "      <td>NaN</td>\n",
       "      <td>NaN</td>\n",
       "      <td>NaN</td>\n",
       "      <td>NaN</td>\n",
       "      <td>NaN</td>\n",
       "      <td>NaN</td>\n",
       "      <td>NaN</td>\n",
       "      <td>NaN</td>\n",
       "      <td>NaN</td>\n",
       "      <td>NaN</td>\n",
       "      <td>NaN</td>\n",
       "      <td>NaN</td>\n",
       "      <td>NaN</td>\n",
       "      <td>NaN</td>\n",
       "      <td>0</td>\n",
       "      <td>&lt;a refstr=MAYO_ET_AL__2018 href=https://ui.ads...</td>\n",
       "      <td>NaN</td>\n",
       "      <td>4720.00</td>\n",
       "      <td>50.00</td>\n",
       "      <td>-50.00</td>\n",
       "      <td>0.0</td>\n",
       "      <td>0.710995</td>\n",
       "      <td>0.018609</td>\n",
       "      <td>-0.020398</td>\n",
       "      <td>0.0</td>\n",
       "      <td>NaN</td>\n",
       "      <td>NaN</td>\n",
       "      <td>NaN</td>\n",
       "      <td>NaN</td>\n",
       "      <td>-0.06</td>\n",
       "      <td>0.080</td>\n",
       "      <td>-0.080</td>\n",
       "      <td>0.0</td>\n",
       "      <td>[Fe/H]</td>\n",
       "      <td>4.50000</td>\n",
       "      <td>0.100000</td>\n",
       "      <td>-0.100000</td>\n",
       "      <td>0.0</td>\n",
       "      <td>&lt;a refstr=STASSUN_ET_AL__2019 href=https://ui....</td>\n",
       "      <td>12h15m23.10s</td>\n",
       "      <td>183.846245</td>\n",
       "      <td>-06d16m05.98s</td>\n",
       "      <td>-6.268329</td>\n",
       "      <td>97.1795</td>\n",
       "      <td>0.4642</td>\n",
       "      <td>-0.4598</td>\n",
       "      <td>11.727</td>\n",
       "      <td>0.046</td>\n",
       "      <td>-0.046</td>\n",
       "      <td>9.220</td>\n",
       "      <td>0.019</td>\n",
       "      <td>-0.019</td>\n",
       "      <td>11.3995</td>\n",
       "      <td>0.001307</td>\n",
       "      <td>-0.001307</td>\n",
       "      <td>2018-02-15</td>\n",
       "      <td>2018-03</td>\n",
       "      <td>2018-02-15</td>\n",
       "    </tr>\n",
       "    <tr>\n",
       "      <th>4</th>\n",
       "      <td>EPIC 201111557.01</td>\n",
       "      <td>EPIC 201111557</td>\n",
       "      <td>1</td>\n",
       "      <td>CANDIDATE</td>\n",
       "      <td>Livingston et al. 2018</td>\n",
       "      <td>1</td>\n",
       "      <td>0</td>\n",
       "      <td>Transit</td>\n",
       "      <td>2018</td>\n",
       "      <td>K2</td>\n",
       "      <td>Published Candidate</td>\n",
       "      <td>0</td>\n",
       "      <td>&lt;a refstr=LIVINGSTON_ET_AL__2018 href=https://...</td>\n",
       "      <td>2.301830</td>\n",
       "      <td>0.000280</td>\n",
       "      <td>-0.000300</td>\n",
       "      <td>0.0</td>\n",
       "      <td>NaN</td>\n",
       "      <td>NaN</td>\n",
       "      <td>NaN</td>\n",
       "      <td>NaN</td>\n",
       "      <td>1.120000</td>\n",
       "      <td>0.110000</td>\n",
       "      <td>-0.080000</td>\n",
       "      <td>0.0</td>\n",
       "      <td>0.099900</td>\n",
       "      <td>0.009800</td>\n",
       "      <td>-0.007000</td>\n",
       "      <td>0.0</td>\n",
       "      <td>NaN</td>\n",
       "      <td>NaN</td>\n",
       "      <td>NaN</td>\n",
       "      <td>NaN</td>\n",
       "      <td>NaN</td>\n",
       "      <td>NaN</td>\n",
       "      <td>NaN</td>\n",
       "      <td>NaN</td>\n",
       "      <td>NaN</td>\n",
       "      <td>NaN</td>\n",
       "      <td>NaN</td>\n",
       "      <td>NaN</td>\n",
       "      <td>NaN</td>\n",
       "      <td>NaN</td>\n",
       "      <td>NaN</td>\n",
       "      <td>NaN</td>\n",
       "      <td>NaN</td>\n",
       "      <td>1054.0</td>\n",
       "      <td>55.0</td>\n",
       "      <td>-55.0</td>\n",
       "      <td>0.0</td>\n",
       "      <td>0</td>\n",
       "      <td>&lt;a refstr=STASSUN_ET_AL__2019 href=https://ui....</td>\n",
       "      <td>NaN</td>\n",
       "      <td>4616.52</td>\n",
       "      <td>82.36</td>\n",
       "      <td>-115.56</td>\n",
       "      <td>0.0</td>\n",
       "      <td>0.762602</td>\n",
       "      <td>0.053651</td>\n",
       "      <td>-0.037585</td>\n",
       "      <td>0.0</td>\n",
       "      <td>0.730000</td>\n",
       "      <td>0.084105</td>\n",
       "      <td>-0.081044</td>\n",
       "      <td>0.0</td>\n",
       "      <td>-0.03</td>\n",
       "      <td>0.034</td>\n",
       "      <td>-0.034</td>\n",
       "      <td>0.0</td>\n",
       "      <td>[M/H]</td>\n",
       "      <td>4.53679</td>\n",
       "      <td>0.075486</td>\n",
       "      <td>-0.090593</td>\n",
       "      <td>0.0</td>\n",
       "      <td>&lt;a refstr=STASSUN_ET_AL__2019 href=https://ui....</td>\n",
       "      <td>12h15m23.10s</td>\n",
       "      <td>183.846245</td>\n",
       "      <td>-06d16m05.98s</td>\n",
       "      <td>-6.268329</td>\n",
       "      <td>97.1795</td>\n",
       "      <td>0.4642</td>\n",
       "      <td>-0.4598</td>\n",
       "      <td>11.727</td>\n",
       "      <td>0.046</td>\n",
       "      <td>-0.046</td>\n",
       "      <td>9.220</td>\n",
       "      <td>0.019</td>\n",
       "      <td>-0.019</td>\n",
       "      <td>11.3995</td>\n",
       "      <td>0.001307</td>\n",
       "      <td>-0.001307</td>\n",
       "      <td>2018-08-02</td>\n",
       "      <td>2018-08</td>\n",
       "      <td>2018-08-02</td>\n",
       "    </tr>\n",
       "  </tbody>\n",
       "</table>\n",
       "</div>"
      ],
      "text/plain": [
       "             pl_name        hostname  default_flag disposition  \\\n",
       "0        BD+20 594 b       BD+20 594             0   CONFIRMED   \n",
       "1        BD+20 594 b       BD+20 594             0   CONFIRMED   \n",
       "2        BD+20 594 b       BD+20 594             1   CONFIRMED   \n",
       "3  EPIC 201111557.01  EPIC 201111557             0   CANDIDATE   \n",
       "4  EPIC 201111557.01  EPIC 201111557             1   CANDIDATE   \n",
       "\n",
       "             disp_refname  sy_snum  sy_pnum discoverymethod  disc_year  \\\n",
       "0    Espinoza et al. 2016        1        1         Transit       2016   \n",
       "1    Espinoza et al. 2016        1        1         Transit       2016   \n",
       "2    Espinoza et al. 2016        1        1         Transit       2016   \n",
       "3  Livingston et al. 2018        1        0         Transit       2018   \n",
       "4  Livingston et al. 2018        1        0         Transit       2018   \n",
       "\n",
       "  disc_facility              soltype  pl_controv_flag  \\\n",
       "0            K2  Published Confirmed                0   \n",
       "1            K2  Published Confirmed                0   \n",
       "2            K2  Published Confirmed                0   \n",
       "3            K2  Published Candidate                0   \n",
       "4            K2  Published Candidate                0   \n",
       "\n",
       "                                          pl_refname  pl_orbper  \\\n",
       "0  <a refstr=MAYO_ET_AL__2018 href=https://ui.ads...  41.688644   \n",
       "1  <a refstr=ESPINOZA_ET_AL__2016 href=https://ui...  41.685500   \n",
       "2  <a refstr=STASSUN_ET_AL__2017 href=https://ui....  41.685500   \n",
       "3  <a refstr=MAYO_ET_AL__2018 href=https://ui.ads...   2.302368   \n",
       "4  <a refstr=LIVINGSTON_ET_AL__2018 href=https://...   2.301830   \n",
       "\n",
       "   pl_orbpererr1  pl_orbpererr2  pl_orbperlim  pl_orbsmax  pl_orbsmaxerr1  \\\n",
       "0       0.003353      -0.003419           0.0         NaN             NaN   \n",
       "1       0.003000      -0.003100           0.0       0.241           0.019   \n",
       "2       0.003000      -0.003000           0.0         NaN             NaN   \n",
       "3       0.000105      -0.000103           0.0         NaN             NaN   \n",
       "4       0.000280      -0.000300           0.0         NaN             NaN   \n",
       "\n",
       "   pl_orbsmaxerr2  pl_orbsmaxlim   pl_rade  pl_radeerr1  pl_radeerr2  \\\n",
       "0             NaN            NaN  2.355454     0.310000    -0.166773   \n",
       "1          -0.017            0.0  2.230000     0.140000    -0.110000   \n",
       "2             NaN            NaN  2.578070     0.112090    -0.112090   \n",
       "3             NaN            NaN  1.312588     0.524177    -0.120814   \n",
       "4             NaN            NaN  1.120000     0.110000    -0.080000   \n",
       "\n",
       "   pl_radelim   pl_radj  pl_radjerr1  pl_radjerr2  pl_radjlim  pl_bmasse  \\\n",
       "0         0.0  0.210139     0.027656    -0.014878         0.0        NaN   \n",
       "1         0.0  0.198947     0.012490    -0.009814         0.0    16.3000   \n",
       "2         0.0  0.230000     0.010000    -0.010000         0.0    22.2481   \n",
       "3         0.0  0.120000     0.050000    -0.010000         0.0        NaN   \n",
       "4         0.0  0.099900     0.009800    -0.007000         0.0        NaN   \n",
       "\n",
       "   pl_bmasseerr1  pl_bmasseerr2  pl_bmasselim  pl_bmassj  pl_bmassjerr1  \\\n",
       "0            NaN            NaN           NaN        NaN            NaN   \n",
       "1         6.0000        -6.1000           0.0   0.051285       0.018878   \n",
       "2         9.5349        -9.5349           0.0   0.070000       0.030000   \n",
       "3            NaN            NaN           NaN        NaN            NaN   \n",
       "4            NaN            NaN           NaN        NaN            NaN   \n",
       "\n",
       "   pl_bmassjerr2  pl_bmassjlim pl_bmassprov  pl_orbeccen  pl_orbeccenerr1  \\\n",
       "0            NaN           NaN          NaN          NaN              NaN   \n",
       "1      -0.019193           0.0         Mass          0.0              NaN   \n",
       "2      -0.030000           0.0         Mass          0.0              NaN   \n",
       "3            NaN           NaN          NaN          NaN              NaN   \n",
       "4            NaN           NaN          NaN          NaN              NaN   \n",
       "\n",
       "   pl_orbeccenerr2  pl_orbeccenlim  pl_insol  pl_insolerr1  pl_insolerr2  \\\n",
       "0              NaN             NaN       NaN           NaN           NaN   \n",
       "1              NaN             0.0       NaN           NaN           NaN   \n",
       "2              NaN             0.0       NaN           NaN           NaN   \n",
       "3              NaN             NaN       NaN           NaN           NaN   \n",
       "4              NaN             NaN       NaN           NaN           NaN   \n",
       "\n",
       "   pl_insollim  pl_eqt  pl_eqterr1  pl_eqterr2  pl_eqtlim  ttv_flag  \\\n",
       "0          NaN     NaN         NaN         NaN        NaN         0   \n",
       "1          NaN   546.0        19.0       -18.0        0.0         0   \n",
       "2          NaN     NaN         NaN         NaN        NaN         0   \n",
       "3          NaN     NaN         NaN         NaN        NaN         0   \n",
       "4          NaN  1054.0        55.0       -55.0        0.0         0   \n",
       "\n",
       "                                          st_refname st_spectype  st_teff  \\\n",
       "0  <a refstr=MAYO_ET_AL__2018 href=https://ui.ads...         NaN  5703.00   \n",
       "1  <a refstr=ESPINOZA_ET_AL__2016 href=https://ui...           G  5766.00   \n",
       "2  <a refstr=STASSUN_ET_AL__2017 href=https://ui....         NaN  5766.00   \n",
       "3  <a refstr=MAYO_ET_AL__2018 href=https://ui.ads...         NaN  4720.00   \n",
       "4  <a refstr=STASSUN_ET_AL__2019 href=https://ui....         NaN  4616.52   \n",
       "\n",
       "   st_tefferr1  st_tefferr2  st_tefflim    st_rad  st_raderr1  st_raderr2  \\\n",
       "0        50.00       -50.00         0.0  0.956122    0.098585   -0.054675   \n",
       "1        99.00       -99.00         0.0  0.928000    0.055000   -0.040000   \n",
       "2        99.00       -99.00         0.0  1.080000    0.060000   -0.060000   \n",
       "3        50.00       -50.00         0.0  0.710995    0.018609   -0.020398   \n",
       "4        82.36      -115.56         0.0  0.762602    0.053651   -0.037585   \n",
       "\n",
       "   st_radlim   st_mass  st_masserr1  st_masserr2  st_masslim  st_met  \\\n",
       "0        0.0  0.963861     0.029568    -0.032166         0.0   -0.06   \n",
       "1        0.0  0.961000     0.032000    -0.029000         0.0   -0.15   \n",
       "2        0.0  1.670000     0.400000    -0.400000         0.0   -0.15   \n",
       "3        0.0       NaN          NaN          NaN         NaN   -0.06   \n",
       "4        0.0  0.730000     0.084105    -0.081044         0.0   -0.03   \n",
       "\n",
       "   st_meterr1  st_meterr2  st_metlim st_metratio  st_logg  st_loggerr1  \\\n",
       "0       0.080      -0.080        0.0      [Fe/H]  4.38000     0.100000   \n",
       "1       0.050      -0.050        0.0      [Fe/H]  4.50000     0.080000   \n",
       "2         NaN         NaN        0.0      [Fe/H]  4.50000     0.080000   \n",
       "3       0.080      -0.080        0.0      [Fe/H]  4.50000     0.100000   \n",
       "4       0.034      -0.034        0.0       [M/H]  4.53679     0.075486   \n",
       "\n",
       "   st_loggerr2  st_logglim                                         sy_refname  \\\n",
       "0    -0.100000         0.0  <a refstr=STASSUN_ET_AL__2019 href=https://ui....   \n",
       "1    -0.080000         0.0  <a refstr=STASSUN_ET_AL__2019 href=https://ui....   \n",
       "2    -0.080000         0.0  <a refstr=STASSUN_ET_AL__2019 href=https://ui....   \n",
       "3    -0.100000         0.0  <a refstr=STASSUN_ET_AL__2019 href=https://ui....   \n",
       "4    -0.090593         0.0  <a refstr=STASSUN_ET_AL__2019 href=https://ui....   \n",
       "\n",
       "          rastr          ra         decstr        dec   sy_dist  sy_disterr1  \\\n",
       "0  03h34m36.27s   53.651123  +20d35m56.47s  20.599021  179.4610       1.2570   \n",
       "1  03h34m36.27s   53.651123  +20d35m56.47s  20.599021  179.4610       1.2570   \n",
       "2  03h34m36.27s   53.651123  +20d35m56.47s  20.599021  179.4610       1.2570   \n",
       "3  12h15m23.10s  183.846245  -06d16m05.98s  -6.268329   97.1795       0.4642   \n",
       "4  12h15m23.10s  183.846245  -06d16m05.98s  -6.268329   97.1795       0.4642   \n",
       "\n",
       "   sy_disterr2  sy_vmag  sy_vmagerr1  sy_vmagerr2  sy_kmag  sy_kmagerr1  \\\n",
       "0      -1.2400   10.849        0.012       -0.012    9.368        0.018   \n",
       "1      -1.2400   10.849        0.012       -0.012    9.368        0.018   \n",
       "2      -1.2400   10.849        0.012       -0.012    9.368        0.018   \n",
       "3      -0.4598   11.727        0.046       -0.046    9.220        0.019   \n",
       "4      -0.4598   11.727        0.046       -0.046    9.220        0.019   \n",
       "\n",
       "   sy_kmagerr2  sy_gaiamag  sy_gaiamagerr1  sy_gaiamagerr2   rowupdate  \\\n",
       "0       -0.018     10.8644        0.000249       -0.000249  2018-04-25   \n",
       "1       -0.018     10.8644        0.000249       -0.000249  2018-04-25   \n",
       "2       -0.018     10.8644        0.000249       -0.000249  2018-04-25   \n",
       "3       -0.019     11.3995        0.001307       -0.001307  2018-02-15   \n",
       "4       -0.019     11.3995        0.001307       -0.001307  2018-08-02   \n",
       "\n",
       "  pl_pubdate releasedate  \n",
       "0    2018-03  2018-02-15  \n",
       "1    2016-10  2016-07-28  \n",
       "2    2017-03  2018-04-26  \n",
       "3    2018-03  2018-02-15  \n",
       "4    2018-08  2018-08-02  "
      ]
     },
     "execution_count": 87,
     "metadata": {},
     "output_type": "execute_result"
    }
   ],
   "source": [
    "df_k2=pd.read_csv('../Data/k2pandc_2025.09.22_16.05.33.csv')\n",
    "df_k2.head()"
   ]
  },
  {
   "cell_type": "code",
   "execution_count": 88,
   "id": "6beec467",
   "metadata": {},
   "outputs": [
    {
     "data": {
      "text/plain": [
       "Index(['pl_name', 'hostname', 'default_flag', 'disposition', 'disp_refname',\n",
       "       'sy_snum', 'sy_pnum', 'discoverymethod', 'disc_year', 'disc_facility',\n",
       "       'soltype', 'pl_controv_flag', 'pl_refname', 'pl_orbper',\n",
       "       'pl_orbpererr1', 'pl_orbpererr2', 'pl_orbperlim', 'pl_orbsmax',\n",
       "       'pl_orbsmaxerr1', 'pl_orbsmaxerr2', 'pl_orbsmaxlim', 'pl_rade',\n",
       "       'pl_radeerr1', 'pl_radeerr2', 'pl_radelim', 'pl_radj', 'pl_radjerr1',\n",
       "       'pl_radjerr2', 'pl_radjlim', 'pl_bmasse', 'pl_bmasseerr1',\n",
       "       'pl_bmasseerr2', 'pl_bmasselim', 'pl_bmassj', 'pl_bmassjerr1',\n",
       "       'pl_bmassjerr2', 'pl_bmassjlim', 'pl_bmassprov', 'pl_orbeccen',\n",
       "       'pl_orbeccenerr1', 'pl_orbeccenerr2', 'pl_orbeccenlim', 'pl_insol',\n",
       "       'pl_insolerr1', 'pl_insolerr2', 'pl_insollim', 'pl_eqt', 'pl_eqterr1',\n",
       "       'pl_eqterr2', 'pl_eqtlim', 'ttv_flag', 'st_refname', 'st_spectype',\n",
       "       'st_teff', 'st_tefferr1', 'st_tefferr2', 'st_tefflim', 'st_rad',\n",
       "       'st_raderr1', 'st_raderr2', 'st_radlim', 'st_mass', 'st_masserr1',\n",
       "       'st_masserr2', 'st_masslim', 'st_met', 'st_meterr1', 'st_meterr2',\n",
       "       'st_metlim', 'st_metratio', 'st_logg', 'st_loggerr1', 'st_loggerr2',\n",
       "       'st_logglim', 'sy_refname', 'rastr', 'ra', 'decstr', 'dec', 'sy_dist',\n",
       "       'sy_disterr1', 'sy_disterr2', 'sy_vmag', 'sy_vmagerr1', 'sy_vmagerr2',\n",
       "       'sy_kmag', 'sy_kmagerr1', 'sy_kmagerr2', 'sy_gaiamag', 'sy_gaiamagerr1',\n",
       "       'sy_gaiamagerr2', 'rowupdate', 'pl_pubdate', 'releasedate'],\n",
       "      dtype='object')"
      ]
     },
     "execution_count": 88,
     "metadata": {},
     "output_type": "execute_result"
    }
   ],
   "source": [
    "df_k2.columns"
   ]
  },
  {
   "cell_type": "code",
   "execution_count": 89,
   "id": "2e2f5d39",
   "metadata": {},
   "outputs": [
    {
     "data": {
      "text/plain": [
       "(3992, 94)"
      ]
     },
     "execution_count": 89,
     "metadata": {},
     "output_type": "execute_result"
    }
   ],
   "source": [
    "df_k2.shape"
   ]
  },
  {
   "cell_type": "markdown",
   "id": "9b144a3b",
   "metadata": {},
   "source": [
    "# TESS Objects of Interest (TOI)\n",
    ": This dataset is a comprehensive list of all confirmed exoplanets, planetary candidates (PC), false positives (FP), ambiguous planetary candidates (APC), and known planets (KP, previously identified) identified by the TESS mission so far. See column “TFOWPG Disposition” for classification."
   ]
  },
  {
   "cell_type": "code",
   "execution_count": 90,
   "id": "9e2712e1",
   "metadata": {},
   "outputs": [
    {
     "data": {
      "text/html": [
       "<div>\n",
       "<style scoped>\n",
       "    .dataframe tbody tr th:only-of-type {\n",
       "        vertical-align: middle;\n",
       "    }\n",
       "\n",
       "    .dataframe tbody tr th {\n",
       "        vertical-align: top;\n",
       "    }\n",
       "\n",
       "    .dataframe thead th {\n",
       "        text-align: right;\n",
       "    }\n",
       "</style>\n",
       "<table border=\"1\" class=\"dataframe\">\n",
       "  <thead>\n",
       "    <tr style=\"text-align: right;\">\n",
       "      <th></th>\n",
       "      <th>toi</th>\n",
       "      <th>tid</th>\n",
       "      <th>tfopwg_disp</th>\n",
       "      <th>rastr</th>\n",
       "      <th>ra</th>\n",
       "      <th>decstr</th>\n",
       "      <th>dec</th>\n",
       "      <th>st_pmra</th>\n",
       "      <th>st_pmraerr1</th>\n",
       "      <th>st_pmraerr2</th>\n",
       "      <th>st_pmralim</th>\n",
       "      <th>st_pmdec</th>\n",
       "      <th>st_pmdecerr1</th>\n",
       "      <th>st_pmdecerr2</th>\n",
       "      <th>st_pmdeclim</th>\n",
       "      <th>pl_tranmid</th>\n",
       "      <th>pl_tranmiderr1</th>\n",
       "      <th>pl_tranmiderr2</th>\n",
       "      <th>pl_tranmidlim</th>\n",
       "      <th>pl_orbper</th>\n",
       "      <th>pl_orbpererr1</th>\n",
       "      <th>pl_orbpererr2</th>\n",
       "      <th>pl_orbperlim</th>\n",
       "      <th>pl_trandurh</th>\n",
       "      <th>pl_trandurherr1</th>\n",
       "      <th>pl_trandurherr2</th>\n",
       "      <th>pl_trandurhlim</th>\n",
       "      <th>pl_trandep</th>\n",
       "      <th>pl_trandeperr1</th>\n",
       "      <th>pl_trandeperr2</th>\n",
       "      <th>pl_trandeplim</th>\n",
       "      <th>pl_rade</th>\n",
       "      <th>pl_radeerr1</th>\n",
       "      <th>pl_radeerr2</th>\n",
       "      <th>pl_radelim</th>\n",
       "      <th>pl_insol</th>\n",
       "      <th>pl_insolerr1</th>\n",
       "      <th>pl_insolerr2</th>\n",
       "      <th>pl_insollim</th>\n",
       "      <th>pl_eqt</th>\n",
       "      <th>pl_eqterr1</th>\n",
       "      <th>pl_eqterr2</th>\n",
       "      <th>pl_eqtlim</th>\n",
       "      <th>st_tmag</th>\n",
       "      <th>st_tmagerr1</th>\n",
       "      <th>st_tmagerr2</th>\n",
       "      <th>st_tmaglim</th>\n",
       "      <th>st_dist</th>\n",
       "      <th>st_disterr1</th>\n",
       "      <th>st_disterr2</th>\n",
       "      <th>st_distlim</th>\n",
       "      <th>st_teff</th>\n",
       "      <th>st_tefferr1</th>\n",
       "      <th>st_tefferr2</th>\n",
       "      <th>st_tefflim</th>\n",
       "      <th>st_logg</th>\n",
       "      <th>st_loggerr1</th>\n",
       "      <th>st_loggerr2</th>\n",
       "      <th>st_logglim</th>\n",
       "      <th>st_rad</th>\n",
       "      <th>st_raderr1</th>\n",
       "      <th>st_raderr2</th>\n",
       "      <th>st_radlim</th>\n",
       "      <th>toi_created</th>\n",
       "      <th>rowupdate</th>\n",
       "    </tr>\n",
       "  </thead>\n",
       "  <tbody>\n",
       "    <tr>\n",
       "      <th>0</th>\n",
       "      <td>1000.01</td>\n",
       "      <td>50365310</td>\n",
       "      <td>FP</td>\n",
       "      <td>07h29m25.85s</td>\n",
       "      <td>112.357708</td>\n",
       "      <td>-12d41m45.46s</td>\n",
       "      <td>-12.695960</td>\n",
       "      <td>-5.964</td>\n",
       "      <td>0.085</td>\n",
       "      <td>-0.085</td>\n",
       "      <td>0.0</td>\n",
       "      <td>-0.076</td>\n",
       "      <td>0.072</td>\n",
       "      <td>-0.072</td>\n",
       "      <td>0.0</td>\n",
       "      <td>2.459230e+06</td>\n",
       "      <td>0.001657</td>\n",
       "      <td>-0.001657</td>\n",
       "      <td>0</td>\n",
       "      <td>2.171348</td>\n",
       "      <td>0.000264</td>\n",
       "      <td>-0.000264</td>\n",
       "      <td>0</td>\n",
       "      <td>2.01722</td>\n",
       "      <td>0.319588</td>\n",
       "      <td>-0.319588</td>\n",
       "      <td>0</td>\n",
       "      <td>656.886099</td>\n",
       "      <td>37.778210</td>\n",
       "      <td>-37.778210</td>\n",
       "      <td>0</td>\n",
       "      <td>5.818163</td>\n",
       "      <td>1.910546</td>\n",
       "      <td>-1.910546</td>\n",
       "      <td>0</td>\n",
       "      <td>22601.948581</td>\n",
       "      <td>NaN</td>\n",
       "      <td>NaN</td>\n",
       "      <td>NaN</td>\n",
       "      <td>3127.204052</td>\n",
       "      <td>NaN</td>\n",
       "      <td>NaN</td>\n",
       "      <td>NaN</td>\n",
       "      <td>9.604000</td>\n",
       "      <td>0.013</td>\n",
       "      <td>-0.013</td>\n",
       "      <td>0</td>\n",
       "      <td>485.735</td>\n",
       "      <td>11.9515</td>\n",
       "      <td>-11.9515</td>\n",
       "      <td>0</td>\n",
       "      <td>10249.0</td>\n",
       "      <td>264.7</td>\n",
       "      <td>-264.7</td>\n",
       "      <td>0</td>\n",
       "      <td>4.19</td>\n",
       "      <td>0.07</td>\n",
       "      <td>-0.07</td>\n",
       "      <td>0</td>\n",
       "      <td>2.16986</td>\n",
       "      <td>0.072573</td>\n",
       "      <td>-0.072573</td>\n",
       "      <td>0</td>\n",
       "      <td>2019-07-24 15:58:33</td>\n",
       "      <td>2024-09-09 10:08:01</td>\n",
       "    </tr>\n",
       "    <tr>\n",
       "      <th>1</th>\n",
       "      <td>1001.01</td>\n",
       "      <td>88863718</td>\n",
       "      <td>PC</td>\n",
       "      <td>08h10m19.31s</td>\n",
       "      <td>122.580465</td>\n",
       "      <td>-05d30m49.87s</td>\n",
       "      <td>-5.513852</td>\n",
       "      <td>-4.956</td>\n",
       "      <td>0.102</td>\n",
       "      <td>-0.102</td>\n",
       "      <td>0.0</td>\n",
       "      <td>-15.555</td>\n",
       "      <td>0.072</td>\n",
       "      <td>-0.072</td>\n",
       "      <td>0.0</td>\n",
       "      <td>2.459988e+06</td>\n",
       "      <td>0.001916</td>\n",
       "      <td>-0.001916</td>\n",
       "      <td>0</td>\n",
       "      <td>1.931646</td>\n",
       "      <td>0.000005</td>\n",
       "      <td>-0.000005</td>\n",
       "      <td>0</td>\n",
       "      <td>3.16600</td>\n",
       "      <td>0.647000</td>\n",
       "      <td>-0.647000</td>\n",
       "      <td>0</td>\n",
       "      <td>1286.000000</td>\n",
       "      <td>1186.490000</td>\n",
       "      <td>-1186.490000</td>\n",
       "      <td>0</td>\n",
       "      <td>11.215400</td>\n",
       "      <td>2.624200</td>\n",
       "      <td>-2.624200</td>\n",
       "      <td>0</td>\n",
       "      <td>44464.500000</td>\n",
       "      <td>NaN</td>\n",
       "      <td>NaN</td>\n",
       "      <td>NaN</td>\n",
       "      <td>4045.000000</td>\n",
       "      <td>NaN</td>\n",
       "      <td>NaN</td>\n",
       "      <td>NaN</td>\n",
       "      <td>9.423440</td>\n",
       "      <td>0.006</td>\n",
       "      <td>-0.006</td>\n",
       "      <td>0</td>\n",
       "      <td>295.862</td>\n",
       "      <td>5.9100</td>\n",
       "      <td>-5.9100</td>\n",
       "      <td>0</td>\n",
       "      <td>7070.0</td>\n",
       "      <td>126.4</td>\n",
       "      <td>-126.4</td>\n",
       "      <td>0</td>\n",
       "      <td>4.03</td>\n",
       "      <td>0.09</td>\n",
       "      <td>-0.09</td>\n",
       "      <td>0</td>\n",
       "      <td>2.01000</td>\n",
       "      <td>0.090000</td>\n",
       "      <td>-0.090000</td>\n",
       "      <td>0</td>\n",
       "      <td>2019-07-24 15:58:33</td>\n",
       "      <td>2023-04-03 14:31:04</td>\n",
       "    </tr>\n",
       "    <tr>\n",
       "      <th>2</th>\n",
       "      <td>1002.01</td>\n",
       "      <td>124709665</td>\n",
       "      <td>FP</td>\n",
       "      <td>06h58m54.47s</td>\n",
       "      <td>104.726966</td>\n",
       "      <td>-10d34m49.64s</td>\n",
       "      <td>-10.580455</td>\n",
       "      <td>-1.462</td>\n",
       "      <td>0.206</td>\n",
       "      <td>-0.206</td>\n",
       "      <td>0.0</td>\n",
       "      <td>-2.249</td>\n",
       "      <td>0.206</td>\n",
       "      <td>-0.206</td>\n",
       "      <td>0.0</td>\n",
       "      <td>2.459225e+06</td>\n",
       "      <td>0.000625</td>\n",
       "      <td>-0.000625</td>\n",
       "      <td>0</td>\n",
       "      <td>1.867557</td>\n",
       "      <td>0.000003</td>\n",
       "      <td>-0.000003</td>\n",
       "      <td>0</td>\n",
       "      <td>1.40800</td>\n",
       "      <td>0.184000</td>\n",
       "      <td>-0.184000</td>\n",
       "      <td>0</td>\n",
       "      <td>1500.000000</td>\n",
       "      <td>1.758400</td>\n",
       "      <td>-1.758400</td>\n",
       "      <td>0</td>\n",
       "      <td>23.752900</td>\n",
       "      <td>NaN</td>\n",
       "      <td>NaN</td>\n",
       "      <td>0</td>\n",
       "      <td>2860.610000</td>\n",
       "      <td>NaN</td>\n",
       "      <td>NaN</td>\n",
       "      <td>NaN</td>\n",
       "      <td>2037.000000</td>\n",
       "      <td>NaN</td>\n",
       "      <td>NaN</td>\n",
       "      <td>NaN</td>\n",
       "      <td>9.299501</td>\n",
       "      <td>0.058</td>\n",
       "      <td>-0.058</td>\n",
       "      <td>0</td>\n",
       "      <td>943.109</td>\n",
       "      <td>106.3330</td>\n",
       "      <td>-106.3330</td>\n",
       "      <td>0</td>\n",
       "      <td>8924.0</td>\n",
       "      <td>124.0</td>\n",
       "      <td>-124.0</td>\n",
       "      <td>0</td>\n",
       "      <td>NaN</td>\n",
       "      <td>NaN</td>\n",
       "      <td>NaN</td>\n",
       "      <td>0</td>\n",
       "      <td>5.73000</td>\n",
       "      <td>NaN</td>\n",
       "      <td>NaN</td>\n",
       "      <td>0</td>\n",
       "      <td>2019-07-24 15:58:33</td>\n",
       "      <td>2022-07-11 16:02:02</td>\n",
       "    </tr>\n",
       "    <tr>\n",
       "      <th>3</th>\n",
       "      <td>1003.01</td>\n",
       "      <td>106997505</td>\n",
       "      <td>FP</td>\n",
       "      <td>07h22m14.39s</td>\n",
       "      <td>110.559945</td>\n",
       "      <td>-25d12m25.26s</td>\n",
       "      <td>-25.207017</td>\n",
       "      <td>-0.939</td>\n",
       "      <td>0.041</td>\n",
       "      <td>-0.041</td>\n",
       "      <td>0.0</td>\n",
       "      <td>1.640</td>\n",
       "      <td>0.055</td>\n",
       "      <td>-0.055</td>\n",
       "      <td>0.0</td>\n",
       "      <td>2.458493e+06</td>\n",
       "      <td>0.005350</td>\n",
       "      <td>-0.005350</td>\n",
       "      <td>0</td>\n",
       "      <td>2.743230</td>\n",
       "      <td>0.001080</td>\n",
       "      <td>-0.001080</td>\n",
       "      <td>0</td>\n",
       "      <td>3.16700</td>\n",
       "      <td>0.642000</td>\n",
       "      <td>-0.642000</td>\n",
       "      <td>0</td>\n",
       "      <td>383.410000</td>\n",
       "      <td>0.781988</td>\n",
       "      <td>-0.781988</td>\n",
       "      <td>0</td>\n",
       "      <td>NaN</td>\n",
       "      <td>NaN</td>\n",
       "      <td>NaN</td>\n",
       "      <td>0</td>\n",
       "      <td>1177.360000</td>\n",
       "      <td>NaN</td>\n",
       "      <td>NaN</td>\n",
       "      <td>NaN</td>\n",
       "      <td>1631.000000</td>\n",
       "      <td>NaN</td>\n",
       "      <td>NaN</td>\n",
       "      <td>NaN</td>\n",
       "      <td>9.300300</td>\n",
       "      <td>0.037</td>\n",
       "      <td>-0.037</td>\n",
       "      <td>0</td>\n",
       "      <td>7728.170</td>\n",
       "      <td>1899.5700</td>\n",
       "      <td>-1899.5700</td>\n",
       "      <td>0</td>\n",
       "      <td>5388.5</td>\n",
       "      <td>567.0</td>\n",
       "      <td>-567.0</td>\n",
       "      <td>0</td>\n",
       "      <td>4.15</td>\n",
       "      <td>1.64</td>\n",
       "      <td>-1.64</td>\n",
       "      <td>0</td>\n",
       "      <td>NaN</td>\n",
       "      <td>NaN</td>\n",
       "      <td>NaN</td>\n",
       "      <td>0</td>\n",
       "      <td>2019-07-24 15:58:33</td>\n",
       "      <td>2022-02-23 10:10:02</td>\n",
       "    </tr>\n",
       "    <tr>\n",
       "      <th>4</th>\n",
       "      <td>1004.01</td>\n",
       "      <td>238597883</td>\n",
       "      <td>FP</td>\n",
       "      <td>08h08m42.77s</td>\n",
       "      <td>122.178195</td>\n",
       "      <td>-48d48m10.12s</td>\n",
       "      <td>-48.802811</td>\n",
       "      <td>-4.496</td>\n",
       "      <td>0.069</td>\n",
       "      <td>-0.069</td>\n",
       "      <td>0.0</td>\n",
       "      <td>9.347</td>\n",
       "      <td>0.062</td>\n",
       "      <td>-0.062</td>\n",
       "      <td>0.0</td>\n",
       "      <td>2.459987e+06</td>\n",
       "      <td>0.003748</td>\n",
       "      <td>-0.003748</td>\n",
       "      <td>0</td>\n",
       "      <td>3.573014</td>\n",
       "      <td>0.000013</td>\n",
       "      <td>-0.000013</td>\n",
       "      <td>0</td>\n",
       "      <td>3.37000</td>\n",
       "      <td>1.029000</td>\n",
       "      <td>-1.029000</td>\n",
       "      <td>0</td>\n",
       "      <td>755.000000</td>\n",
       "      <td>1306.550000</td>\n",
       "      <td>-1306.550000</td>\n",
       "      <td>0</td>\n",
       "      <td>11.311300</td>\n",
       "      <td>3.247140</td>\n",
       "      <td>-3.247140</td>\n",
       "      <td>0</td>\n",
       "      <td>54679.300000</td>\n",
       "      <td>NaN</td>\n",
       "      <td>NaN</td>\n",
       "      <td>NaN</td>\n",
       "      <td>4260.000000</td>\n",
       "      <td>NaN</td>\n",
       "      <td>NaN</td>\n",
       "      <td>NaN</td>\n",
       "      <td>9.135500</td>\n",
       "      <td>0.006</td>\n",
       "      <td>-0.006</td>\n",
       "      <td>0</td>\n",
       "      <td>356.437</td>\n",
       "      <td>4.6175</td>\n",
       "      <td>-4.6175</td>\n",
       "      <td>0</td>\n",
       "      <td>9219.0</td>\n",
       "      <td>171.1</td>\n",
       "      <td>-171.1</td>\n",
       "      <td>0</td>\n",
       "      <td>4.14</td>\n",
       "      <td>0.07</td>\n",
       "      <td>-0.07</td>\n",
       "      <td>0</td>\n",
       "      <td>2.15000</td>\n",
       "      <td>0.060000</td>\n",
       "      <td>-0.060000</td>\n",
       "      <td>0</td>\n",
       "      <td>2019-07-24 15:58:33</td>\n",
       "      <td>2024-09-09 10:08:01</td>\n",
       "    </tr>\n",
       "  </tbody>\n",
       "</table>\n",
       "</div>"
      ],
      "text/plain": [
       "       toi        tid tfopwg_disp         rastr          ra         decstr  \\\n",
       "0  1000.01   50365310          FP  07h29m25.85s  112.357708  -12d41m45.46s   \n",
       "1  1001.01   88863718          PC  08h10m19.31s  122.580465  -05d30m49.87s   \n",
       "2  1002.01  124709665          FP  06h58m54.47s  104.726966  -10d34m49.64s   \n",
       "3  1003.01  106997505          FP  07h22m14.39s  110.559945  -25d12m25.26s   \n",
       "4  1004.01  238597883          FP  08h08m42.77s  122.178195  -48d48m10.12s   \n",
       "\n",
       "         dec  st_pmra  st_pmraerr1  st_pmraerr2  st_pmralim  st_pmdec  \\\n",
       "0 -12.695960   -5.964        0.085       -0.085         0.0    -0.076   \n",
       "1  -5.513852   -4.956        0.102       -0.102         0.0   -15.555   \n",
       "2 -10.580455   -1.462        0.206       -0.206         0.0    -2.249   \n",
       "3 -25.207017   -0.939        0.041       -0.041         0.0     1.640   \n",
       "4 -48.802811   -4.496        0.069       -0.069         0.0     9.347   \n",
       "\n",
       "   st_pmdecerr1  st_pmdecerr2  st_pmdeclim    pl_tranmid  pl_tranmiderr1  \\\n",
       "0         0.072        -0.072          0.0  2.459230e+06        0.001657   \n",
       "1         0.072        -0.072          0.0  2.459988e+06        0.001916   \n",
       "2         0.206        -0.206          0.0  2.459225e+06        0.000625   \n",
       "3         0.055        -0.055          0.0  2.458493e+06        0.005350   \n",
       "4         0.062        -0.062          0.0  2.459987e+06        0.003748   \n",
       "\n",
       "   pl_tranmiderr2  pl_tranmidlim  pl_orbper  pl_orbpererr1  pl_orbpererr2  \\\n",
       "0       -0.001657              0   2.171348       0.000264      -0.000264   \n",
       "1       -0.001916              0   1.931646       0.000005      -0.000005   \n",
       "2       -0.000625              0   1.867557       0.000003      -0.000003   \n",
       "3       -0.005350              0   2.743230       0.001080      -0.001080   \n",
       "4       -0.003748              0   3.573014       0.000013      -0.000013   \n",
       "\n",
       "   pl_orbperlim  pl_trandurh  pl_trandurherr1  pl_trandurherr2  \\\n",
       "0             0      2.01722         0.319588        -0.319588   \n",
       "1             0      3.16600         0.647000        -0.647000   \n",
       "2             0      1.40800         0.184000        -0.184000   \n",
       "3             0      3.16700         0.642000        -0.642000   \n",
       "4             0      3.37000         1.029000        -1.029000   \n",
       "\n",
       "   pl_trandurhlim   pl_trandep  pl_trandeperr1  pl_trandeperr2  pl_trandeplim  \\\n",
       "0               0   656.886099       37.778210      -37.778210              0   \n",
       "1               0  1286.000000     1186.490000    -1186.490000              0   \n",
       "2               0  1500.000000        1.758400       -1.758400              0   \n",
       "3               0   383.410000        0.781988       -0.781988              0   \n",
       "4               0   755.000000     1306.550000    -1306.550000              0   \n",
       "\n",
       "     pl_rade  pl_radeerr1  pl_radeerr2  pl_radelim      pl_insol  \\\n",
       "0   5.818163     1.910546    -1.910546           0  22601.948581   \n",
       "1  11.215400     2.624200    -2.624200           0  44464.500000   \n",
       "2  23.752900          NaN          NaN           0   2860.610000   \n",
       "3        NaN          NaN          NaN           0   1177.360000   \n",
       "4  11.311300     3.247140    -3.247140           0  54679.300000   \n",
       "\n",
       "   pl_insolerr1  pl_insolerr2  pl_insollim       pl_eqt  pl_eqterr1  \\\n",
       "0           NaN           NaN          NaN  3127.204052         NaN   \n",
       "1           NaN           NaN          NaN  4045.000000         NaN   \n",
       "2           NaN           NaN          NaN  2037.000000         NaN   \n",
       "3           NaN           NaN          NaN  1631.000000         NaN   \n",
       "4           NaN           NaN          NaN  4260.000000         NaN   \n",
       "\n",
       "   pl_eqterr2  pl_eqtlim   st_tmag  st_tmagerr1  st_tmagerr2  st_tmaglim  \\\n",
       "0         NaN        NaN  9.604000        0.013       -0.013           0   \n",
       "1         NaN        NaN  9.423440        0.006       -0.006           0   \n",
       "2         NaN        NaN  9.299501        0.058       -0.058           0   \n",
       "3         NaN        NaN  9.300300        0.037       -0.037           0   \n",
       "4         NaN        NaN  9.135500        0.006       -0.006           0   \n",
       "\n",
       "    st_dist  st_disterr1  st_disterr2  st_distlim  st_teff  st_tefferr1  \\\n",
       "0   485.735      11.9515     -11.9515           0  10249.0        264.7   \n",
       "1   295.862       5.9100      -5.9100           0   7070.0        126.4   \n",
       "2   943.109     106.3330    -106.3330           0   8924.0        124.0   \n",
       "3  7728.170    1899.5700   -1899.5700           0   5388.5        567.0   \n",
       "4   356.437       4.6175      -4.6175           0   9219.0        171.1   \n",
       "\n",
       "   st_tefferr2  st_tefflim  st_logg  st_loggerr1  st_loggerr2  st_logglim  \\\n",
       "0       -264.7           0     4.19         0.07        -0.07           0   \n",
       "1       -126.4           0     4.03         0.09        -0.09           0   \n",
       "2       -124.0           0      NaN          NaN          NaN           0   \n",
       "3       -567.0           0     4.15         1.64        -1.64           0   \n",
       "4       -171.1           0     4.14         0.07        -0.07           0   \n",
       "\n",
       "    st_rad  st_raderr1  st_raderr2  st_radlim          toi_created  \\\n",
       "0  2.16986    0.072573   -0.072573          0  2019-07-24 15:58:33   \n",
       "1  2.01000    0.090000   -0.090000          0  2019-07-24 15:58:33   \n",
       "2  5.73000         NaN         NaN          0  2019-07-24 15:58:33   \n",
       "3      NaN         NaN         NaN          0  2019-07-24 15:58:33   \n",
       "4  2.15000    0.060000   -0.060000          0  2019-07-24 15:58:33   \n",
       "\n",
       "             rowupdate  \n",
       "0  2024-09-09 10:08:01  \n",
       "1  2023-04-03 14:31:04  \n",
       "2  2022-07-11 16:02:02  \n",
       "3  2022-02-23 10:10:02  \n",
       "4  2024-09-09 10:08:01  "
      ]
     },
     "execution_count": 90,
     "metadata": {},
     "output_type": "execute_result"
    }
   ],
   "source": [
    "df_TOI=pd.read_csv('../Data/TOI_2025.09.22_16.02.18.csv')\n",
    "df_TOI.head()"
   ]
  },
  {
   "cell_type": "code",
   "execution_count": 91,
   "id": "29703019",
   "metadata": {},
   "outputs": [
    {
     "data": {
      "text/plain": [
       "Index(['toi', 'tid', 'tfopwg_disp', 'rastr', 'ra', 'decstr', 'dec', 'st_pmra',\n",
       "       'st_pmraerr1', 'st_pmraerr2', 'st_pmralim', 'st_pmdec', 'st_pmdecerr1',\n",
       "       'st_pmdecerr2', 'st_pmdeclim', 'pl_tranmid', 'pl_tranmiderr1',\n",
       "       'pl_tranmiderr2', 'pl_tranmidlim', 'pl_orbper', 'pl_orbpererr1',\n",
       "       'pl_orbpererr2', 'pl_orbperlim', 'pl_trandurh', 'pl_trandurherr1',\n",
       "       'pl_trandurherr2', 'pl_trandurhlim', 'pl_trandep', 'pl_trandeperr1',\n",
       "       'pl_trandeperr2', 'pl_trandeplim', 'pl_rade', 'pl_radeerr1',\n",
       "       'pl_radeerr2', 'pl_radelim', 'pl_insol', 'pl_insolerr1', 'pl_insolerr2',\n",
       "       'pl_insollim', 'pl_eqt', 'pl_eqterr1', 'pl_eqterr2', 'pl_eqtlim',\n",
       "       'st_tmag', 'st_tmagerr1', 'st_tmagerr2', 'st_tmaglim', 'st_dist',\n",
       "       'st_disterr1', 'st_disterr2', 'st_distlim', 'st_teff', 'st_tefferr1',\n",
       "       'st_tefferr2', 'st_tefflim', 'st_logg', 'st_loggerr1', 'st_loggerr2',\n",
       "       'st_logglim', 'st_rad', 'st_raderr1', 'st_raderr2', 'st_radlim',\n",
       "       'toi_created', 'rowupdate'],\n",
       "      dtype='object')"
      ]
     },
     "execution_count": 91,
     "metadata": {},
     "output_type": "execute_result"
    }
   ],
   "source": [
    "df_TOI.columns"
   ]
  },
  {
   "cell_type": "code",
   "execution_count": null,
   "id": "96f97c0b",
   "metadata": {},
   "outputs": [],
   "source": []
  },
  {
   "cell_type": "markdown",
   "id": "d23da3a1",
   "metadata": {},
   "source": []
  },
  {
   "cell_type": "code",
   "execution_count": 92,
   "id": "dbbbf9d9",
   "metadata": {},
   "outputs": [
    {
     "data": {
      "text/plain": [
       "(7668, 65)"
      ]
     },
     "execution_count": 92,
     "metadata": {},
     "output_type": "execute_result"
    }
   ],
   "source": [
    "df_TOI.shape"
   ]
  },
  {
   "cell_type": "markdown",
   "id": "737003d5",
   "metadata": {},
   "source": [
    "We begin by selecting the columns that are important to train our model on, we are mainly going to use supervised technquies to train our model"
   ]
  },
  {
   "cell_type": "code",
   "execution_count": null,
   "id": "0fae57f1",
   "metadata": {},
   "outputs": [],
   "source": []
  },
  {
   "cell_type": "code",
   "execution_count": 93,
   "id": "2469fdaf",
   "metadata": {},
   "outputs": [
    {
     "data": {
      "text/html": [
       "<div>\n",
       "<style scoped>\n",
       "    .dataframe tbody tr th:only-of-type {\n",
       "        vertical-align: middle;\n",
       "    }\n",
       "\n",
       "    .dataframe tbody tr th {\n",
       "        vertical-align: top;\n",
       "    }\n",
       "\n",
       "    .dataframe thead th {\n",
       "        text-align: right;\n",
       "    }\n",
       "</style>\n",
       "<table border=\"1\" class=\"dataframe\">\n",
       "  <thead>\n",
       "    <tr style=\"text-align: right;\">\n",
       "      <th></th>\n",
       "      <th>koi_period</th>\n",
       "      <th>koi_duration</th>\n",
       "      <th>koi_depth</th>\n",
       "      <th>koi_prad</th>\n",
       "      <th>koi_teq</th>\n",
       "      <th>koi_insol</th>\n",
       "      <th>koi_model_snr</th>\n",
       "      <th>koi_fpflag_nt</th>\n",
       "      <th>koi_fpflag_ss</th>\n",
       "      <th>koi_fpflag_co</th>\n",
       "      <th>koi_fpflag_ec</th>\n",
       "      <th>koi_steff</th>\n",
       "      <th>koi_slogg</th>\n",
       "      <th>koi_srad</th>\n",
       "      <th>koi_kepmag</th>\n",
       "      <th>koi_disposition</th>\n",
       "    </tr>\n",
       "  </thead>\n",
       "  <tbody>\n",
       "    <tr>\n",
       "      <th>0</th>\n",
       "      <td>9.488036</td>\n",
       "      <td>2.95750</td>\n",
       "      <td>615.8</td>\n",
       "      <td>2.26</td>\n",
       "      <td>793.0</td>\n",
       "      <td>93.59</td>\n",
       "      <td>35.8</td>\n",
       "      <td>0</td>\n",
       "      <td>0</td>\n",
       "      <td>0</td>\n",
       "      <td>0</td>\n",
       "      <td>5455.0</td>\n",
       "      <td>4.467</td>\n",
       "      <td>0.927</td>\n",
       "      <td>15.347</td>\n",
       "      <td>CONFIRMED</td>\n",
       "    </tr>\n",
       "    <tr>\n",
       "      <th>1</th>\n",
       "      <td>54.418383</td>\n",
       "      <td>4.50700</td>\n",
       "      <td>874.8</td>\n",
       "      <td>2.83</td>\n",
       "      <td>443.0</td>\n",
       "      <td>9.11</td>\n",
       "      <td>25.8</td>\n",
       "      <td>0</td>\n",
       "      <td>0</td>\n",
       "      <td>0</td>\n",
       "      <td>0</td>\n",
       "      <td>5455.0</td>\n",
       "      <td>4.467</td>\n",
       "      <td>0.927</td>\n",
       "      <td>15.347</td>\n",
       "      <td>CONFIRMED</td>\n",
       "    </tr>\n",
       "    <tr>\n",
       "      <th>2</th>\n",
       "      <td>19.899140</td>\n",
       "      <td>1.78220</td>\n",
       "      <td>10829.0</td>\n",
       "      <td>14.60</td>\n",
       "      <td>638.0</td>\n",
       "      <td>39.30</td>\n",
       "      <td>76.3</td>\n",
       "      <td>0</td>\n",
       "      <td>0</td>\n",
       "      <td>0</td>\n",
       "      <td>0</td>\n",
       "      <td>5853.0</td>\n",
       "      <td>4.544</td>\n",
       "      <td>0.868</td>\n",
       "      <td>15.436</td>\n",
       "      <td>CANDIDATE</td>\n",
       "    </tr>\n",
       "    <tr>\n",
       "      <th>3</th>\n",
       "      <td>1.736952</td>\n",
       "      <td>2.40641</td>\n",
       "      <td>8079.2</td>\n",
       "      <td>33.46</td>\n",
       "      <td>1395.0</td>\n",
       "      <td>891.96</td>\n",
       "      <td>505.6</td>\n",
       "      <td>0</td>\n",
       "      <td>1</td>\n",
       "      <td>0</td>\n",
       "      <td>0</td>\n",
       "      <td>5805.0</td>\n",
       "      <td>4.564</td>\n",
       "      <td>0.791</td>\n",
       "      <td>15.597</td>\n",
       "      <td>FALSE POSITIVE</td>\n",
       "    </tr>\n",
       "    <tr>\n",
       "      <th>4</th>\n",
       "      <td>2.525592</td>\n",
       "      <td>1.65450</td>\n",
       "      <td>603.3</td>\n",
       "      <td>2.75</td>\n",
       "      <td>1406.0</td>\n",
       "      <td>926.16</td>\n",
       "      <td>40.9</td>\n",
       "      <td>0</td>\n",
       "      <td>0</td>\n",
       "      <td>0</td>\n",
       "      <td>0</td>\n",
       "      <td>6031.0</td>\n",
       "      <td>4.438</td>\n",
       "      <td>1.046</td>\n",
       "      <td>15.509</td>\n",
       "      <td>CONFIRMED</td>\n",
       "    </tr>\n",
       "  </tbody>\n",
       "</table>\n",
       "</div>"
      ],
      "text/plain": [
       "   koi_period  koi_duration  koi_depth  koi_prad  koi_teq  koi_insol  \\\n",
       "0    9.488036       2.95750      615.8      2.26    793.0      93.59   \n",
       "1   54.418383       4.50700      874.8      2.83    443.0       9.11   \n",
       "2   19.899140       1.78220    10829.0     14.60    638.0      39.30   \n",
       "3    1.736952       2.40641     8079.2     33.46   1395.0     891.96   \n",
       "4    2.525592       1.65450      603.3      2.75   1406.0     926.16   \n",
       "\n",
       "   koi_model_snr  koi_fpflag_nt  koi_fpflag_ss  koi_fpflag_co  koi_fpflag_ec  \\\n",
       "0           35.8              0              0              0              0   \n",
       "1           25.8              0              0              0              0   \n",
       "2           76.3              0              0              0              0   \n",
       "3          505.6              0              1              0              0   \n",
       "4           40.9              0              0              0              0   \n",
       "\n",
       "   koi_steff  koi_slogg  koi_srad  koi_kepmag koi_disposition  \n",
       "0     5455.0      4.467     0.927      15.347       CONFIRMED  \n",
       "1     5455.0      4.467     0.927      15.347       CONFIRMED  \n",
       "2     5853.0      4.544     0.868      15.436       CANDIDATE  \n",
       "3     5805.0      4.564     0.791      15.597  FALSE POSITIVE  \n",
       "4     6031.0      4.438     1.046      15.509       CONFIRMED  "
      ]
     },
     "execution_count": 93,
     "metadata": {},
     "output_type": "execute_result"
    }
   ],
   "source": [
    "df_KOI_selected = df_KOI[[\n",
    "    'koi_period',            # Orbital period\n",
    "    'koi_duration',          # Duration of the transit\n",
    "    'koi_depth',             # Transit depth\n",
    "    'koi_prad',              # Planetary radius\n",
    "    'koi_teq',               # Equilibrium temperature\n",
    "    'koi_insol',             # Insolation flux\n",
    "    'koi_model_snr',         # Signal-to-noise ratio\n",
    "    'koi_fpflag_nt',         # Not transit-like flag\n",
    "    'koi_fpflag_ss',         # Stellar eclipse flag\n",
    "    'koi_fpflag_co',         # Centroid offset flag\n",
    "    'koi_fpflag_ec',         # Ephemeris match contamination flag\n",
    "    'koi_steff',             # Stellar effective temperature\n",
    "    'koi_slogg',             # Stellar surface gravity\n",
    "    'koi_srad',              # Stellar radius\n",
    "    'koi_kepmag',            # Kepler magnitude\n",
    "    'koi_disposition'        # Target label (CONFIRMED, FALSE POSITIVE, CANDIDATE)\n",
    "]]\n",
    "\n",
    "df_KOI_selected.head()\n"
   ]
  },
  {
   "cell_type": "code",
   "execution_count": 94,
   "id": "d4ee85ec",
   "metadata": {},
   "outputs": [
    {
     "data": {
      "text/html": [
       "<div>\n",
       "<style scoped>\n",
       "    .dataframe tbody tr th:only-of-type {\n",
       "        vertical-align: middle;\n",
       "    }\n",
       "\n",
       "    .dataframe tbody tr th {\n",
       "        vertical-align: top;\n",
       "    }\n",
       "\n",
       "    .dataframe thead th {\n",
       "        text-align: right;\n",
       "    }\n",
       "</style>\n",
       "<table border=\"1\" class=\"dataframe\">\n",
       "  <thead>\n",
       "    <tr style=\"text-align: right;\">\n",
       "      <th></th>\n",
       "      <th>koi_period</th>\n",
       "      <th>koi_duration</th>\n",
       "      <th>koi_depth</th>\n",
       "      <th>koi_prad</th>\n",
       "      <th>koi_teq</th>\n",
       "      <th>koi_insol</th>\n",
       "      <th>koi_model_snr</th>\n",
       "      <th>koi_fpflag_nt</th>\n",
       "      <th>koi_fpflag_ss</th>\n",
       "      <th>koi_fpflag_co</th>\n",
       "      <th>koi_fpflag_ec</th>\n",
       "      <th>koi_steff</th>\n",
       "      <th>koi_slogg</th>\n",
       "      <th>koi_srad</th>\n",
       "      <th>koi_kepmag</th>\n",
       "    </tr>\n",
       "  </thead>\n",
       "  <tbody>\n",
       "    <tr>\n",
       "      <th>count</th>\n",
       "      <td>9564.000000</td>\n",
       "      <td>9564.000000</td>\n",
       "      <td>9.201000e+03</td>\n",
       "      <td>9201.000000</td>\n",
       "      <td>9201.000000</td>\n",
       "      <td>9.243000e+03</td>\n",
       "      <td>9201.000000</td>\n",
       "      <td>9564.000000</td>\n",
       "      <td>9564.000000</td>\n",
       "      <td>9564.000000</td>\n",
       "      <td>9564.000000</td>\n",
       "      <td>9201.000000</td>\n",
       "      <td>9201.000000</td>\n",
       "      <td>9201.000000</td>\n",
       "      <td>9563.000000</td>\n",
       "    </tr>\n",
       "    <tr>\n",
       "      <th>mean</th>\n",
       "      <td>75.671358</td>\n",
       "      <td>5.621606</td>\n",
       "      <td>2.379134e+04</td>\n",
       "      <td>102.891778</td>\n",
       "      <td>1085.385828</td>\n",
       "      <td>7.745737e+03</td>\n",
       "      <td>259.895001</td>\n",
       "      <td>0.208595</td>\n",
       "      <td>0.232748</td>\n",
       "      <td>0.197512</td>\n",
       "      <td>0.120033</td>\n",
       "      <td>5706.823280</td>\n",
       "      <td>4.310157</td>\n",
       "      <td>1.728712</td>\n",
       "      <td>14.264606</td>\n",
       "    </tr>\n",
       "    <tr>\n",
       "      <th>std</th>\n",
       "      <td>1334.744046</td>\n",
       "      <td>6.471554</td>\n",
       "      <td>8.224268e+04</td>\n",
       "      <td>3077.639126</td>\n",
       "      <td>856.351161</td>\n",
       "      <td>1.592047e+05</td>\n",
       "      <td>795.806615</td>\n",
       "      <td>4.767290</td>\n",
       "      <td>0.422605</td>\n",
       "      <td>0.398142</td>\n",
       "      <td>0.325018</td>\n",
       "      <td>796.857947</td>\n",
       "      <td>0.432606</td>\n",
       "      <td>6.127185</td>\n",
       "      <td>1.385448</td>\n",
       "    </tr>\n",
       "    <tr>\n",
       "      <th>min</th>\n",
       "      <td>0.241843</td>\n",
       "      <td>0.052000</td>\n",
       "      <td>0.000000e+00</td>\n",
       "      <td>0.080000</td>\n",
       "      <td>25.000000</td>\n",
       "      <td>0.000000e+00</td>\n",
       "      <td>0.000000</td>\n",
       "      <td>0.000000</td>\n",
       "      <td>0.000000</td>\n",
       "      <td>0.000000</td>\n",
       "      <td>0.000000</td>\n",
       "      <td>2661.000000</td>\n",
       "      <td>0.047000</td>\n",
       "      <td>0.109000</td>\n",
       "      <td>6.966000</td>\n",
       "    </tr>\n",
       "    <tr>\n",
       "      <th>25%</th>\n",
       "      <td>2.733684</td>\n",
       "      <td>2.437750</td>\n",
       "      <td>1.599000e+02</td>\n",
       "      <td>1.400000</td>\n",
       "      <td>539.000000</td>\n",
       "      <td>2.015000e+01</td>\n",
       "      <td>12.000000</td>\n",
       "      <td>0.000000</td>\n",
       "      <td>0.000000</td>\n",
       "      <td>0.000000</td>\n",
       "      <td>0.000000</td>\n",
       "      <td>5310.000000</td>\n",
       "      <td>4.218000</td>\n",
       "      <td>0.829000</td>\n",
       "      <td>13.440000</td>\n",
       "    </tr>\n",
       "    <tr>\n",
       "      <th>50%</th>\n",
       "      <td>9.752831</td>\n",
       "      <td>3.792600</td>\n",
       "      <td>4.211000e+02</td>\n",
       "      <td>2.390000</td>\n",
       "      <td>878.000000</td>\n",
       "      <td>1.416000e+02</td>\n",
       "      <td>23.000000</td>\n",
       "      <td>0.000000</td>\n",
       "      <td>0.000000</td>\n",
       "      <td>0.000000</td>\n",
       "      <td>0.000000</td>\n",
       "      <td>5767.000000</td>\n",
       "      <td>4.438000</td>\n",
       "      <td>1.000000</td>\n",
       "      <td>14.520000</td>\n",
       "    </tr>\n",
       "    <tr>\n",
       "      <th>75%</th>\n",
       "      <td>40.715178</td>\n",
       "      <td>6.276500</td>\n",
       "      <td>1.473400e+03</td>\n",
       "      <td>14.930000</td>\n",
       "      <td>1379.000000</td>\n",
       "      <td>8.702900e+02</td>\n",
       "      <td>78.000000</td>\n",
       "      <td>0.000000</td>\n",
       "      <td>0.000000</td>\n",
       "      <td>0.000000</td>\n",
       "      <td>0.000000</td>\n",
       "      <td>6112.000000</td>\n",
       "      <td>4.543000</td>\n",
       "      <td>1.345000</td>\n",
       "      <td>15.322000</td>\n",
       "    </tr>\n",
       "    <tr>\n",
       "      <th>max</th>\n",
       "      <td>129995.778400</td>\n",
       "      <td>138.540000</td>\n",
       "      <td>1.541400e+06</td>\n",
       "      <td>200346.000000</td>\n",
       "      <td>14667.000000</td>\n",
       "      <td>1.094755e+07</td>\n",
       "      <td>9054.700000</td>\n",
       "      <td>465.000000</td>\n",
       "      <td>1.000000</td>\n",
       "      <td>1.000000</td>\n",
       "      <td>1.000000</td>\n",
       "      <td>15896.000000</td>\n",
       "      <td>5.364000</td>\n",
       "      <td>229.908000</td>\n",
       "      <td>20.003000</td>\n",
       "    </tr>\n",
       "  </tbody>\n",
       "</table>\n",
       "</div>"
      ],
      "text/plain": [
       "          koi_period  koi_duration     koi_depth       koi_prad       koi_teq  \\\n",
       "count    9564.000000   9564.000000  9.201000e+03    9201.000000   9201.000000   \n",
       "mean       75.671358      5.621606  2.379134e+04     102.891778   1085.385828   \n",
       "std      1334.744046      6.471554  8.224268e+04    3077.639126    856.351161   \n",
       "min         0.241843      0.052000  0.000000e+00       0.080000     25.000000   \n",
       "25%         2.733684      2.437750  1.599000e+02       1.400000    539.000000   \n",
       "50%         9.752831      3.792600  4.211000e+02       2.390000    878.000000   \n",
       "75%        40.715178      6.276500  1.473400e+03      14.930000   1379.000000   \n",
       "max    129995.778400    138.540000  1.541400e+06  200346.000000  14667.000000   \n",
       "\n",
       "          koi_insol  koi_model_snr  koi_fpflag_nt  koi_fpflag_ss  \\\n",
       "count  9.243000e+03    9201.000000    9564.000000    9564.000000   \n",
       "mean   7.745737e+03     259.895001       0.208595       0.232748   \n",
       "std    1.592047e+05     795.806615       4.767290       0.422605   \n",
       "min    0.000000e+00       0.000000       0.000000       0.000000   \n",
       "25%    2.015000e+01      12.000000       0.000000       0.000000   \n",
       "50%    1.416000e+02      23.000000       0.000000       0.000000   \n",
       "75%    8.702900e+02      78.000000       0.000000       0.000000   \n",
       "max    1.094755e+07    9054.700000     465.000000       1.000000   \n",
       "\n",
       "       koi_fpflag_co  koi_fpflag_ec     koi_steff    koi_slogg     koi_srad  \\\n",
       "count    9564.000000    9564.000000   9201.000000  9201.000000  9201.000000   \n",
       "mean        0.197512       0.120033   5706.823280     4.310157     1.728712   \n",
       "std         0.398142       0.325018    796.857947     0.432606     6.127185   \n",
       "min         0.000000       0.000000   2661.000000     0.047000     0.109000   \n",
       "25%         0.000000       0.000000   5310.000000     4.218000     0.829000   \n",
       "50%         0.000000       0.000000   5767.000000     4.438000     1.000000   \n",
       "75%         0.000000       0.000000   6112.000000     4.543000     1.345000   \n",
       "max         1.000000       1.000000  15896.000000     5.364000   229.908000   \n",
       "\n",
       "        koi_kepmag  \n",
       "count  9563.000000  \n",
       "mean     14.264606  \n",
       "std       1.385448  \n",
       "min       6.966000  \n",
       "25%      13.440000  \n",
       "50%      14.520000  \n",
       "75%      15.322000  \n",
       "max      20.003000  "
      ]
     },
     "execution_count": 94,
     "metadata": {},
     "output_type": "execute_result"
    }
   ],
   "source": [
    "df_KOI_selected.describe()"
   ]
  },
  {
   "cell_type": "code",
   "execution_count": 95,
   "id": "2e763274",
   "metadata": {},
   "outputs": [
    {
     "name": "stdout",
     "output_type": "stream",
     "text": [
      "<class 'pandas.core.frame.DataFrame'>\n",
      "RangeIndex: 9564 entries, 0 to 9563\n",
      "Data columns (total 16 columns):\n",
      " #   Column           Non-Null Count  Dtype  \n",
      "---  ------           --------------  -----  \n",
      " 0   koi_period       9564 non-null   float64\n",
      " 1   koi_duration     9564 non-null   float64\n",
      " 2   koi_depth        9201 non-null   float64\n",
      " 3   koi_prad         9201 non-null   float64\n",
      " 4   koi_teq          9201 non-null   float64\n",
      " 5   koi_insol        9243 non-null   float64\n",
      " 6   koi_model_snr    9201 non-null   float64\n",
      " 7   koi_fpflag_nt    9564 non-null   int64  \n",
      " 8   koi_fpflag_ss    9564 non-null   int64  \n",
      " 9   koi_fpflag_co    9564 non-null   int64  \n",
      " 10  koi_fpflag_ec    9564 non-null   int64  \n",
      " 11  koi_steff        9201 non-null   float64\n",
      " 12  koi_slogg        9201 non-null   float64\n",
      " 13  koi_srad         9201 non-null   float64\n",
      " 14  koi_kepmag       9563 non-null   float64\n",
      " 15  koi_disposition  9564 non-null   object \n",
      "dtypes: float64(11), int64(4), object(1)\n",
      "memory usage: 1.2+ MB\n"
     ]
    }
   ],
   "source": [
    "df_KOI_selected.info()"
   ]
  },
  {
   "cell_type": "code",
   "execution_count": 96,
   "id": "bae98eea",
   "metadata": {},
   "outputs": [
    {
     "data": {
      "text/plain": [
       "koi_period           0\n",
       "koi_duration         0\n",
       "koi_depth          363\n",
       "koi_prad           363\n",
       "koi_teq            363\n",
       "koi_insol          321\n",
       "koi_model_snr      363\n",
       "koi_fpflag_nt        0\n",
       "koi_fpflag_ss        0\n",
       "koi_fpflag_co        0\n",
       "koi_fpflag_ec        0\n",
       "koi_steff          363\n",
       "koi_slogg          363\n",
       "koi_srad           363\n",
       "koi_kepmag           1\n",
       "koi_disposition      0\n",
       "dtype: int64"
      ]
     },
     "execution_count": 96,
     "metadata": {},
     "output_type": "execute_result"
    }
   ],
   "source": [
    "df_KOI_selected.isna().sum()"
   ]
  },
  {
   "cell_type": "markdown",
   "id": "1e6935c3",
   "metadata": {},
   "source": []
  },
  {
   "cell_type": "code",
   "execution_count": 97,
   "id": "fd0c239f",
   "metadata": {},
   "outputs": [
    {
     "data": {
      "text/html": [
       "<div>\n",
       "<style scoped>\n",
       "    .dataframe tbody tr th:only-of-type {\n",
       "        vertical-align: middle;\n",
       "    }\n",
       "\n",
       "    .dataframe tbody tr th {\n",
       "        vertical-align: top;\n",
       "    }\n",
       "\n",
       "    .dataframe thead th {\n",
       "        text-align: right;\n",
       "    }\n",
       "</style>\n",
       "<table border=\"1\" class=\"dataframe\">\n",
       "  <thead>\n",
       "    <tr style=\"text-align: right;\">\n",
       "      <th></th>\n",
       "      <th>koi_period</th>\n",
       "      <th>koi_duration</th>\n",
       "      <th>koi_depth</th>\n",
       "      <th>koi_prad</th>\n",
       "      <th>koi_teq</th>\n",
       "      <th>koi_insol</th>\n",
       "      <th>koi_model_snr</th>\n",
       "      <th>koi_fpflag_nt</th>\n",
       "      <th>koi_fpflag_ss</th>\n",
       "      <th>koi_fpflag_co</th>\n",
       "      <th>koi_fpflag_ec</th>\n",
       "      <th>koi_steff</th>\n",
       "      <th>koi_slogg</th>\n",
       "      <th>koi_srad</th>\n",
       "      <th>koi_kepmag</th>\n",
       "      <th>koi_disposition</th>\n",
       "    </tr>\n",
       "  </thead>\n",
       "  <tbody>\n",
       "    <tr>\n",
       "      <th>330</th>\n",
       "      <td>0.734525</td>\n",
       "      <td>6.70</td>\n",
       "      <td>NaN</td>\n",
       "      <td>NaN</td>\n",
       "      <td>NaN</td>\n",
       "      <td>NaN</td>\n",
       "      <td>NaN</td>\n",
       "      <td>0</td>\n",
       "      <td>0</td>\n",
       "      <td>0</td>\n",
       "      <td>0</td>\n",
       "      <td>NaN</td>\n",
       "      <td>NaN</td>\n",
       "      <td>NaN</td>\n",
       "      <td>13.220</td>\n",
       "      <td>FALSE POSITIVE</td>\n",
       "    </tr>\n",
       "    <tr>\n",
       "      <th>360</th>\n",
       "      <td>6.721078</td>\n",
       "      <td>7.46</td>\n",
       "      <td>NaN</td>\n",
       "      <td>NaN</td>\n",
       "      <td>NaN</td>\n",
       "      <td>NaN</td>\n",
       "      <td>NaN</td>\n",
       "      <td>1</td>\n",
       "      <td>0</td>\n",
       "      <td>0</td>\n",
       "      <td>0</td>\n",
       "      <td>NaN</td>\n",
       "      <td>NaN</td>\n",
       "      <td>NaN</td>\n",
       "      <td>14.792</td>\n",
       "      <td>FALSE POSITIVE</td>\n",
       "    </tr>\n",
       "    <tr>\n",
       "      <th>479</th>\n",
       "      <td>1.008617</td>\n",
       "      <td>0.91</td>\n",
       "      <td>NaN</td>\n",
       "      <td>NaN</td>\n",
       "      <td>NaN</td>\n",
       "      <td>NaN</td>\n",
       "      <td>NaN</td>\n",
       "      <td>0</td>\n",
       "      <td>0</td>\n",
       "      <td>0</td>\n",
       "      <td>0</td>\n",
       "      <td>NaN</td>\n",
       "      <td>NaN</td>\n",
       "      <td>NaN</td>\n",
       "      <td>15.319</td>\n",
       "      <td>CANDIDATE</td>\n",
       "    </tr>\n",
       "    <tr>\n",
       "      <th>493</th>\n",
       "      <td>200.611033</td>\n",
       "      <td>7.13</td>\n",
       "      <td>NaN</td>\n",
       "      <td>NaN</td>\n",
       "      <td>NaN</td>\n",
       "      <td>NaN</td>\n",
       "      <td>NaN</td>\n",
       "      <td>1</td>\n",
       "      <td>0</td>\n",
       "      <td>1</td>\n",
       "      <td>1</td>\n",
       "      <td>NaN</td>\n",
       "      <td>NaN</td>\n",
       "      <td>NaN</td>\n",
       "      <td>15.783</td>\n",
       "      <td>FALSE POSITIVE</td>\n",
       "    </tr>\n",
       "    <tr>\n",
       "      <th>495</th>\n",
       "      <td>1.634846</td>\n",
       "      <td>6.11</td>\n",
       "      <td>NaN</td>\n",
       "      <td>NaN</td>\n",
       "      <td>NaN</td>\n",
       "      <td>17098.4</td>\n",
       "      <td>NaN</td>\n",
       "      <td>1</td>\n",
       "      <td>0</td>\n",
       "      <td>1</td>\n",
       "      <td>1</td>\n",
       "      <td>NaN</td>\n",
       "      <td>NaN</td>\n",
       "      <td>NaN</td>\n",
       "      <td>12.647</td>\n",
       "      <td>FALSE POSITIVE</td>\n",
       "    </tr>\n",
       "    <tr>\n",
       "      <th>528</th>\n",
       "      <td>110.615766</td>\n",
       "      <td>5.00</td>\n",
       "      <td>NaN</td>\n",
       "      <td>NaN</td>\n",
       "      <td>NaN</td>\n",
       "      <td>NaN</td>\n",
       "      <td>NaN</td>\n",
       "      <td>1</td>\n",
       "      <td>0</td>\n",
       "      <td>0</td>\n",
       "      <td>0</td>\n",
       "      <td>NaN</td>\n",
       "      <td>NaN</td>\n",
       "      <td>NaN</td>\n",
       "      <td>13.620</td>\n",
       "      <td>FALSE POSITIVE</td>\n",
       "    </tr>\n",
       "    <tr>\n",
       "      <th>557</th>\n",
       "      <td>7.168827</td>\n",
       "      <td>1.29</td>\n",
       "      <td>NaN</td>\n",
       "      <td>NaN</td>\n",
       "      <td>NaN</td>\n",
       "      <td>NaN</td>\n",
       "      <td>NaN</td>\n",
       "      <td>1</td>\n",
       "      <td>0</td>\n",
       "      <td>0</td>\n",
       "      <td>0</td>\n",
       "      <td>NaN</td>\n",
       "      <td>NaN</td>\n",
       "      <td>NaN</td>\n",
       "      <td>15.602</td>\n",
       "      <td>FALSE POSITIVE</td>\n",
       "    </tr>\n",
       "    <tr>\n",
       "      <th>572</th>\n",
       "      <td>2.497052</td>\n",
       "      <td>3.79</td>\n",
       "      <td>NaN</td>\n",
       "      <td>NaN</td>\n",
       "      <td>NaN</td>\n",
       "      <td>NaN</td>\n",
       "      <td>NaN</td>\n",
       "      <td>1</td>\n",
       "      <td>0</td>\n",
       "      <td>0</td>\n",
       "      <td>0</td>\n",
       "      <td>NaN</td>\n",
       "      <td>NaN</td>\n",
       "      <td>NaN</td>\n",
       "      <td>10.266</td>\n",
       "      <td>FALSE POSITIVE</td>\n",
       "    </tr>\n",
       "    <tr>\n",
       "      <th>746</th>\n",
       "      <td>12.376793</td>\n",
       "      <td>3.85</td>\n",
       "      <td>NaN</td>\n",
       "      <td>NaN</td>\n",
       "      <td>NaN</td>\n",
       "      <td>NaN</td>\n",
       "      <td>NaN</td>\n",
       "      <td>0</td>\n",
       "      <td>0</td>\n",
       "      <td>0</td>\n",
       "      <td>0</td>\n",
       "      <td>NaN</td>\n",
       "      <td>NaN</td>\n",
       "      <td>NaN</td>\n",
       "      <td>11.926</td>\n",
       "      <td>CANDIDATE</td>\n",
       "    </tr>\n",
       "    <tr>\n",
       "      <th>752</th>\n",
       "      <td>69.627542</td>\n",
       "      <td>11.07</td>\n",
       "      <td>NaN</td>\n",
       "      <td>NaN</td>\n",
       "      <td>NaN</td>\n",
       "      <td>NaN</td>\n",
       "      <td>NaN</td>\n",
       "      <td>1</td>\n",
       "      <td>0</td>\n",
       "      <td>0</td>\n",
       "      <td>0</td>\n",
       "      <td>NaN</td>\n",
       "      <td>NaN</td>\n",
       "      <td>NaN</td>\n",
       "      <td>15.384</td>\n",
       "      <td>FALSE POSITIVE</td>\n",
       "    </tr>\n",
       "  </tbody>\n",
       "</table>\n",
       "</div>"
      ],
      "text/plain": [
       "     koi_period  koi_duration  koi_depth  koi_prad  koi_teq  koi_insol  \\\n",
       "330    0.734525          6.70        NaN       NaN      NaN        NaN   \n",
       "360    6.721078          7.46        NaN       NaN      NaN        NaN   \n",
       "479    1.008617          0.91        NaN       NaN      NaN        NaN   \n",
       "493  200.611033          7.13        NaN       NaN      NaN        NaN   \n",
       "495    1.634846          6.11        NaN       NaN      NaN    17098.4   \n",
       "528  110.615766          5.00        NaN       NaN      NaN        NaN   \n",
       "557    7.168827          1.29        NaN       NaN      NaN        NaN   \n",
       "572    2.497052          3.79        NaN       NaN      NaN        NaN   \n",
       "746   12.376793          3.85        NaN       NaN      NaN        NaN   \n",
       "752   69.627542         11.07        NaN       NaN      NaN        NaN   \n",
       "\n",
       "     koi_model_snr  koi_fpflag_nt  koi_fpflag_ss  koi_fpflag_co  \\\n",
       "330            NaN              0              0              0   \n",
       "360            NaN              1              0              0   \n",
       "479            NaN              0              0              0   \n",
       "493            NaN              1              0              1   \n",
       "495            NaN              1              0              1   \n",
       "528            NaN              1              0              0   \n",
       "557            NaN              1              0              0   \n",
       "572            NaN              1              0              0   \n",
       "746            NaN              0              0              0   \n",
       "752            NaN              1              0              0   \n",
       "\n",
       "     koi_fpflag_ec  koi_steff  koi_slogg  koi_srad  koi_kepmag koi_disposition  \n",
       "330              0        NaN        NaN       NaN      13.220  FALSE POSITIVE  \n",
       "360              0        NaN        NaN       NaN      14.792  FALSE POSITIVE  \n",
       "479              0        NaN        NaN       NaN      15.319       CANDIDATE  \n",
       "493              1        NaN        NaN       NaN      15.783  FALSE POSITIVE  \n",
       "495              1        NaN        NaN       NaN      12.647  FALSE POSITIVE  \n",
       "528              0        NaN        NaN       NaN      13.620  FALSE POSITIVE  \n",
       "557              0        NaN        NaN       NaN      15.602  FALSE POSITIVE  \n",
       "572              0        NaN        NaN       NaN      10.266  FALSE POSITIVE  \n",
       "746              0        NaN        NaN       NaN      11.926       CANDIDATE  \n",
       "752              0        NaN        NaN       NaN      15.384  FALSE POSITIVE  "
      ]
     },
     "execution_count": 97,
     "metadata": {},
     "output_type": "execute_result"
    }
   ],
   "source": [
    "df_KOI_selected[df_KOI_selected.isna().any(axis=1)].head(10)\n"
   ]
  },
  {
   "cell_type": "code",
   "execution_count": 98,
   "id": "f1df78a9",
   "metadata": {},
   "outputs": [
    {
     "name": "stderr",
     "output_type": "stream",
     "text": [
      "/tmp/ipykernel_15369/233385985.py:6: SettingWithCopyWarning: \n",
      "A value is trying to be set on a copy of a slice from a DataFrame.\n",
      "Try using .loc[row_indexer,col_indexer] = value instead\n",
      "\n",
      "See the caveats in the documentation: https://pandas.pydata.org/pandas-docs/stable/user_guide/indexing.html#returning-a-view-versus-a-copy\n",
      "  df_KOI_selected[col] = df_KOI_selected[col].fillna(df_KOI_selected[col].median())\n",
      "/tmp/ipykernel_15369/233385985.py:6: SettingWithCopyWarning: \n",
      "A value is trying to be set on a copy of a slice from a DataFrame.\n",
      "Try using .loc[row_indexer,col_indexer] = value instead\n",
      "\n",
      "See the caveats in the documentation: https://pandas.pydata.org/pandas-docs/stable/user_guide/indexing.html#returning-a-view-versus-a-copy\n",
      "  df_KOI_selected[col] = df_KOI_selected[col].fillna(df_KOI_selected[col].median())\n",
      "/tmp/ipykernel_15369/233385985.py:6: SettingWithCopyWarning: \n",
      "A value is trying to be set on a copy of a slice from a DataFrame.\n",
      "Try using .loc[row_indexer,col_indexer] = value instead\n",
      "\n",
      "See the caveats in the documentation: https://pandas.pydata.org/pandas-docs/stable/user_guide/indexing.html#returning-a-view-versus-a-copy\n",
      "  df_KOI_selected[col] = df_KOI_selected[col].fillna(df_KOI_selected[col].median())\n",
      "/tmp/ipykernel_15369/233385985.py:6: SettingWithCopyWarning: \n",
      "A value is trying to be set on a copy of a slice from a DataFrame.\n",
      "Try using .loc[row_indexer,col_indexer] = value instead\n",
      "\n",
      "See the caveats in the documentation: https://pandas.pydata.org/pandas-docs/stable/user_guide/indexing.html#returning-a-view-versus-a-copy\n",
      "  df_KOI_selected[col] = df_KOI_selected[col].fillna(df_KOI_selected[col].median())\n",
      "/tmp/ipykernel_15369/233385985.py:6: SettingWithCopyWarning: \n",
      "A value is trying to be set on a copy of a slice from a DataFrame.\n",
      "Try using .loc[row_indexer,col_indexer] = value instead\n",
      "\n",
      "See the caveats in the documentation: https://pandas.pydata.org/pandas-docs/stable/user_guide/indexing.html#returning-a-view-versus-a-copy\n",
      "  df_KOI_selected[col] = df_KOI_selected[col].fillna(df_KOI_selected[col].median())\n",
      "/tmp/ipykernel_15369/233385985.py:6: SettingWithCopyWarning: \n",
      "A value is trying to be set on a copy of a slice from a DataFrame.\n",
      "Try using .loc[row_indexer,col_indexer] = value instead\n",
      "\n",
      "See the caveats in the documentation: https://pandas.pydata.org/pandas-docs/stable/user_guide/indexing.html#returning-a-view-versus-a-copy\n",
      "  df_KOI_selected[col] = df_KOI_selected[col].fillna(df_KOI_selected[col].median())\n",
      "/tmp/ipykernel_15369/233385985.py:6: SettingWithCopyWarning: \n",
      "A value is trying to be set on a copy of a slice from a DataFrame.\n",
      "Try using .loc[row_indexer,col_indexer] = value instead\n",
      "\n",
      "See the caveats in the documentation: https://pandas.pydata.org/pandas-docs/stable/user_guide/indexing.html#returning-a-view-versus-a-copy\n",
      "  df_KOI_selected[col] = df_KOI_selected[col].fillna(df_KOI_selected[col].median())\n",
      "/tmp/ipykernel_15369/233385985.py:6: SettingWithCopyWarning: \n",
      "A value is trying to be set on a copy of a slice from a DataFrame.\n",
      "Try using .loc[row_indexer,col_indexer] = value instead\n",
      "\n",
      "See the caveats in the documentation: https://pandas.pydata.org/pandas-docs/stable/user_guide/indexing.html#returning-a-view-versus-a-copy\n",
      "  df_KOI_selected[col] = df_KOI_selected[col].fillna(df_KOI_selected[col].median())\n",
      "/tmp/ipykernel_15369/233385985.py:6: SettingWithCopyWarning: \n",
      "A value is trying to be set on a copy of a slice from a DataFrame.\n",
      "Try using .loc[row_indexer,col_indexer] = value instead\n",
      "\n",
      "See the caveats in the documentation: https://pandas.pydata.org/pandas-docs/stable/user_guide/indexing.html#returning-a-view-versus-a-copy\n",
      "  df_KOI_selected[col] = df_KOI_selected[col].fillna(df_KOI_selected[col].median())\n"
     ]
    }
   ],
   "source": [
    "# Use median imputation for all numeric missing values\n",
    "for col in ['koi_depth', 'koi_prad', 'koi_teq', 'koi_insol', \n",
    "            'koi_model_snr', 'koi_steff', 'koi_slogg', \n",
    "            'koi_srad', 'koi_kepmag']:\n",
    "    \n",
    "    df_KOI_selected[col] = df_KOI_selected[col].fillna(df_KOI_selected[col].median())"
   ]
  },
  {
   "cell_type": "code",
   "execution_count": 99,
   "id": "86c3318d",
   "metadata": {},
   "outputs": [
    {
     "data": {
      "text/plain": [
       "koi_period         0\n",
       "koi_duration       0\n",
       "koi_depth          0\n",
       "koi_prad           0\n",
       "koi_teq            0\n",
       "koi_insol          0\n",
       "koi_model_snr      0\n",
       "koi_fpflag_nt      0\n",
       "koi_fpflag_ss      0\n",
       "koi_fpflag_co      0\n",
       "koi_fpflag_ec      0\n",
       "koi_steff          0\n",
       "koi_slogg          0\n",
       "koi_srad           0\n",
       "koi_kepmag         0\n",
       "koi_disposition    0\n",
       "dtype: int64"
      ]
     },
     "execution_count": 99,
     "metadata": {},
     "output_type": "execute_result"
    }
   ],
   "source": [
    "df_KOI_selected.isna().sum()"
   ]
  },
  {
   "cell_type": "code",
   "execution_count": 100,
   "id": "8e1c6dd7",
   "metadata": {},
   "outputs": [],
   "source": [
    "df_KOI_selected.to_csv('data/df_KOI_NOT_Capped.csv', index=False)"
   ]
  },
  {
   "cell_type": "markdown",
   "id": "27d71066",
   "metadata": {},
   "source": [
    "## Univariate Analysis"
   ]
  },
  {
   "cell_type": "markdown",
   "id": "32969b23",
   "metadata": {},
   "source": [
    "### Univariate Analysis Overview\n",
    "We will analyze each variable in the KOI dataset individually to understand its distribution and characteristics. This includes both categorical and numerical features."
   ]
  },
  {
   "cell_type": "markdown",
   "id": "d323cf47",
   "metadata": {},
   "source": [
    "### Categorical "
   ]
  },
  {
   "cell_type": "markdown",
   "id": "a8917a49",
   "metadata": {},
   "source": [
    "#### Categorical Features\n",
    "We will examine the distribution of the main categorical variable: `koi_disposition`."
   ]
  },
  {
   "cell_type": "code",
   "execution_count": 101,
   "id": "c32a4ab2",
   "metadata": {},
   "outputs": [
    {
     "data": {
      "text/plain": [
       "<Axes: ylabel='count'>"
      ]
     },
     "execution_count": 101,
     "metadata": {},
     "output_type": "execute_result"
    },
    {
     "data": {
      "image/png": "[encoded data removed]",
      "text/plain": [
       "<Figure size 600x600 with 1 Axes>"
      ]
     },
     "metadata": {},
     "output_type": "display_data"
    }
   ],
   "source": [
    "df_KOI_selected['koi_disposition'].value_counts().plot(kind='pie', autopct='%1.1f%%', figsize=(6, 6))"
   ]
  },
  {
   "cell_type": "code",
   "execution_count": 102,
   "id": "966ab6f2",
   "metadata": {},
   "outputs": [
    {
     "data": {
      "image/png": "[encoded data removed]",
      "text/plain": [
       "<Figure size 640x480 with 1 Axes>"
      ]
     },
     "metadata": {},
     "output_type": "display_data"
    }
   ],
   "source": [
    "# Count plot for koi_disposition\n",
    "sns.countplot(x='koi_disposition', data=df_KOI_selected)\n",
    "plt.title('KOI Disposition Counts')\n",
    "plt.show()"
   ]
  },
  {
   "cell_type": "markdown",
   "id": "2c1d359e",
   "metadata": {},
   "source": [
    "## Numerical"
   ]
  },
  {
   "cell_type": "markdown",
   "id": "b8b6c765",
   "metadata": {},
   "source": [
    "#### Numerical Features\n",
    "We will analyze the distribution of each numerical feature using histograms and boxplots."
   ]
  },
  {
   "cell_type": "markdown",
   "id": "d9f1b93c",
   "metadata": {},
   "source": [
    "KOI_Prad-Planet radius"
   ]
  },
  {
   "cell_type": "code",
   "execution_count": 103,
   "id": "06a60062",
   "metadata": {},
   "outputs": [
    {
     "data": {
      "text/plain": [
       "count      9564.000000\n",
       "mean         99.077250\n",
       "std        3018.723391\n",
       "min           0.080000\n",
       "25%           1.430000\n",
       "50%           2.390000\n",
       "75%          13.112500\n",
       "max      200346.000000\n",
       "Name: koi_prad, dtype: float64"
      ]
     },
     "execution_count": 103,
     "metadata": {},
     "output_type": "execute_result"
    }
   ],
   "source": [
    "df_KOI_selected['koi_prad'].describe()"
   ]
  },
  {
   "cell_type": "code",
   "execution_count": 104,
   "id": "cd2b96f6",
   "metadata": {},
   "outputs": [
    {
     "data": {
      "text/plain": [
       "<Axes: xlabel='koi_prad', ylabel='Count'>"
      ]
     },
     "execution_count": 104,
     "metadata": {},
     "output_type": "execute_result"
    },
    {
     "data": {
      "image/png": "[encoded data removed]",
      "text/plain": [
       "<Figure size 640x480 with 1 Axes>"
      ]
     },
     "metadata": {},
     "output_type": "display_data"
    }
   ],
   "source": [
    "sns.histplot(df_KOI_selected['koi_prad'],bins=8,kde=True)"
   ]
  },
  {
   "cell_type": "code",
   "execution_count": 105,
   "id": "9f584591",
   "metadata": {},
   "outputs": [
    {
     "name": "stderr",
     "output_type": "stream",
     "text": [
      "/tmp/ipykernel_15369/2386121623.py:1: SettingWithCopyWarning: \n",
      "A value is trying to be set on a copy of a slice from a DataFrame.\n",
      "Try using .loc[row_indexer,col_indexer] = value instead\n",
      "\n",
      "See the caveats in the documentation: https://pandas.pydata.org/pandas-docs/stable/user_guide/indexing.html#returning-a-view-versus-a-copy\n",
      "  df_KOI_selected['koi_prad_log'] = np.log1p(df_KOI_selected['koi_prad'])  # log(1 + x)\n"
     ]
    }
   ],
   "source": [
    "df_KOI_selected['koi_prad_log'] = np.log1p(df_KOI_selected['koi_prad'])  # log(1 + x)"
   ]
  },
  {
   "cell_type": "code",
   "execution_count": 106,
   "id": "783248e1",
   "metadata": {},
   "outputs": [
    {
     "data": {
      "text/plain": [
       "<Axes: xlabel='koi_prad_log', ylabel='Count'>"
      ]
     },
     "execution_count": 106,
     "metadata": {},
     "output_type": "execute_result"
    },
    {
     "data": {
      "image/png": "[encoded data removed]",
      "text/plain": [
       "<Figure size 640x480 with 1 Axes>"
      ]
     },
     "metadata": {},
     "output_type": "display_data"
    }
   ],
   "source": [
    "sns.histplot(df_KOI_selected['koi_prad_log'],bins=50,kde=True)"
   ]
  },
  {
   "cell_type": "code",
   "execution_count": 107,
   "id": "222663b4",
   "metadata": {},
   "outputs": [
    {
     "data": {
      "text/plain": [
       "<Axes: xlabel='koi_prad_log'>"
      ]
     },
     "execution_count": 107,
     "metadata": {},
     "output_type": "execute_result"
    },
    {
     "data": {
      "image/png": "[encoded data removed]",
      "text/plain": [
       "<Figure size 640x480 with 1 Axes>"
      ]
     },
     "metadata": {},
     "output_type": "display_data"
    }
   ],
   "source": [
    "sns.boxplot(x=df_KOI_selected['koi_prad_log'])"
   ]
  },
  {
   "cell_type": "markdown",
   "id": "d938f216",
   "metadata": {},
   "source": [
    "Let users enter the normal planetary radius, then convert it in your backend before passing to the model: koi_prad = float(user_input)\n",
    "koi_prad_log = np.log1p(koi_prad)"
   ]
  },
  {
   "cell_type": "code",
   "execution_count": 108,
   "id": "d1210a6b",
   "metadata": {},
   "outputs": [
    {
     "data": {
      "text/plain": [
       "0       1.181727\n",
       "1       1.342865\n",
       "2       2.747271\n",
       "3       3.539799\n",
       "4       1.321756\n",
       "          ...   \n",
       "9559    3.412797\n",
       "9560    0.542324\n",
       "9561    0.727549\n",
       "9562    3.010621\n",
       "9563    0.717840\n",
       "Name: koi_prad, Length: 9564, dtype: float64"
      ]
     },
     "execution_count": 108,
     "metadata": {},
     "output_type": "execute_result"
    }
   ],
   "source": [
    "np.log1p(df_KOI_selected['koi_prad'])"
   ]
  },
  {
   "cell_type": "markdown",
   "id": "8a90cc42",
   "metadata": {},
   "source": [
    "### KOI-Steff Stellar Effective Temperature"
   ]
  },
  {
   "cell_type": "code",
   "execution_count": 109,
   "id": "735aae8d",
   "metadata": {},
   "outputs": [
    {
     "data": {
      "text/plain": [
       "count     9564.000000\n",
       "mean      5709.107277\n",
       "std        781.672343\n",
       "min       2661.000000\n",
       "25%       5333.000000\n",
       "50%       5767.000000\n",
       "75%       6099.000000\n",
       "max      15896.000000\n",
       "Name: koi_steff, dtype: float64"
      ]
     },
     "execution_count": 109,
     "metadata": {},
     "output_type": "execute_result"
    }
   ],
   "source": [
    "df_KOI_selected['koi_steff'].describe()"
   ]
  },
  {
   "cell_type": "code",
   "execution_count": 110,
   "id": "5e165828",
   "metadata": {},
   "outputs": [
    {
     "data": {
      "text/plain": [
       "<Axes: xlabel='koi_steff', ylabel='Count'>"
      ]
     },
     "execution_count": 110,
     "metadata": {},
     "output_type": "execute_result"
    },
    {
     "data": {
      "image/png": "[encoded data removed]",
      "text/plain": [
       "<Figure size 640x480 with 1 Axes>"
      ]
     },
     "metadata": {},
     "output_type": "display_data"
    }
   ],
   "source": [
    "sns.histplot(df_KOI_selected['koi_steff'], kde=True)"
   ]
  },
  {
   "cell_type": "markdown",
   "id": "5af2ca96",
   "metadata": {},
   "source": [
    "### koi_period — Orbital Period"
   ]
  },
  {
   "cell_type": "code",
   "execution_count": 111,
   "id": "cd0e5d14",
   "metadata": {},
   "outputs": [
    {
     "data": {
      "text/plain": [
       "count      9564.000000\n",
       "mean         75.671358\n",
       "std        1334.744046\n",
       "min           0.241843\n",
       "25%           2.733684\n",
       "50%           9.752831\n",
       "75%          40.715178\n",
       "max      129995.778400\n",
       "Name: koi_period, dtype: float64"
      ]
     },
     "execution_count": 111,
     "metadata": {},
     "output_type": "execute_result"
    }
   ],
   "source": [
    "df_KOI_selected['koi_period'].describe()"
   ]
  },
  {
   "cell_type": "code",
   "execution_count": 112,
   "id": "3bb48403",
   "metadata": {},
   "outputs": [
    {
     "data": {
      "text/plain": [
       "<Axes: xlabel='koi_period', ylabel='Count'>"
      ]
     },
     "execution_count": 112,
     "metadata": {},
     "output_type": "execute_result"
    },
    {
     "data": {
      "image/png": "[encoded data removed]",
      "text/plain": [
       "<Figure size 640x480 with 1 Axes>"
      ]
     },
     "metadata": {},
     "output_type": "display_data"
    }
   ],
   "source": [
    "sns.histplot(df_KOI_selected['koi_period'], kde=True)"
   ]
  },
  {
   "cell_type": "code",
   "execution_count": 113,
   "id": "c6cb4f59",
   "metadata": {},
   "outputs": [
    {
     "data": {
      "image/png": "[encoded data removed]",
      "text/plain": [
       "<Figure size 640x480 with 1 Axes>"
      ]
     },
     "metadata": {},
     "output_type": "display_data"
    }
   ],
   "source": [
    "plt.xscale('log')  # Try visualizing log scale"
   ]
  },
  {
   "cell_type": "markdown",
   "id": "422a5057",
   "metadata": {},
   "source": [
    "### koi_duration — Duration of transit"
   ]
  },
  {
   "cell_type": "code",
   "execution_count": 114,
   "id": "28481d3d",
   "metadata": {},
   "outputs": [
    {
     "data": {
      "text/plain": [
       "<Axes: xlabel='koi_duration'>"
      ]
     },
     "execution_count": 114,
     "metadata": {},
     "output_type": "execute_result"
    },
    {
     "data": {
      "image/png": "[encoded data removed]",
      "text/plain": [
       "<Figure size 640x480 with 1 Axes>"
      ]
     },
     "metadata": {},
     "output_type": "display_data"
    }
   ],
   "source": [
    "sns.boxplot(x=df_KOI_selected['koi_duration'])"
   ]
  },
  {
   "cell_type": "code",
   "execution_count": 115,
   "id": "c3388bca",
   "metadata": {},
   "outputs": [
    {
     "name": "stdout",
     "output_type": "stream",
     "text": [
      "Correlation between koi_duration and koi_period: 0.0373\n"
     ]
    }
   ],
   "source": [
    "correlation = df_KOI_selected['koi_duration'].corr(df_KOI_selected['koi_period'])\n",
    "print(f\"Correlation between koi_duration and koi_period: {correlation:.4f}\")\n"
   ]
  },
  {
   "cell_type": "code",
   "execution_count": 116,
   "id": "86a59508",
   "metadata": {},
   "outputs": [
    {
     "data": {
      "text/plain": [
       "<Axes: >"
      ]
     },
     "execution_count": 116,
     "metadata": {},
     "output_type": "execute_result"
    },
    {
     "data": {
      "image/png": "[encoded data removed]",
      "text/plain": [
       "<Figure size 640x480 with 2 Axes>"
      ]
     },
     "metadata": {},
     "output_type": "display_data"
    }
   ],
   "source": [
    "corr_matrix = df_KOI_selected[['koi_duration', 'koi_period', 'koi_depth']].corr()\n",
    "sns.heatmap(corr_matrix, annot=True, cmap='coolwarm')"
   ]
  },
  {
   "cell_type": "markdown",
   "id": "0d2427cc",
   "metadata": {},
   "source": []
  },
  {
   "cell_type": "markdown",
   "id": "af6a9a64",
   "metadata": {},
   "source": [
    "### koi_depth"
   ]
  },
  {
   "cell_type": "code",
   "execution_count": 117,
   "id": "fcb09ee6",
   "metadata": {},
   "outputs": [
    {
     "data": {
      "text/plain": [
       "count    9.564000e+03\n",
       "mean     2.290432e+04\n",
       "std      8.079020e+04\n",
       "min      0.000000e+00\n",
       "25%      1.668000e+02\n",
       "50%      4.211000e+02\n",
       "75%      1.341775e+03\n",
       "max      1.541400e+06\n",
       "Name: koi_depth, dtype: float64"
      ]
     },
     "execution_count": 117,
     "metadata": {},
     "output_type": "execute_result"
    }
   ],
   "source": [
    "df_KOI_selected['koi_depth'].describe()\n"
   ]
  },
  {
   "cell_type": "code",
   "execution_count": 118,
   "id": "a327802e",
   "metadata": {},
   "outputs": [
    {
     "data": {
      "text/plain": [
       "<Axes: xlabel='koi_depth', ylabel='Count'>"
      ]
     },
     "execution_count": 118,
     "metadata": {},
     "output_type": "execute_result"
    },
    {
     "data": {
      "image/png": "[encoded data removed]",
      "text/plain": [
       "<Figure size 640x480 with 1 Axes>"
      ]
     },
     "metadata": {},
     "output_type": "display_data"
    }
   ],
   "source": [
    "sns.histplot(df_KOI_selected['koi_depth'],bins=30,kde=True)"
   ]
  },
  {
   "cell_type": "code",
   "execution_count": 119,
   "id": "43f4b089",
   "metadata": {},
   "outputs": [
    {
     "data": {
      "text/plain": [
       "<Axes: xlabel='koi_depth'>"
      ]
     },
     "execution_count": 119,
     "metadata": {},
     "output_type": "execute_result"
    },
    {
     "data": {
      "image/png": "[encoded data removed]",
      "text/plain": [
       "<Figure size 640x480 with 1 Axes>"
      ]
     },
     "metadata": {},
     "output_type": "display_data"
    }
   ],
   "source": [
    "sns.boxplot(x=df_KOI_selected['koi_depth'])"
   ]
  },
  {
   "cell_type": "code",
   "execution_count": 120,
   "id": "2ccafdc7",
   "metadata": {},
   "outputs": [
    {
     "name": "stderr",
     "output_type": "stream",
     "text": [
      "/tmp/ipykernel_15369/9917641.py:1: SettingWithCopyWarning: \n",
      "A value is trying to be set on a copy of a slice from a DataFrame.\n",
      "Try using .loc[row_indexer,col_indexer] = value instead\n",
      "\n",
      "See the caveats in the documentation: https://pandas.pydata.org/pandas-docs/stable/user_guide/indexing.html#returning-a-view-versus-a-copy\n",
      "  df_KOI_selected['koi_depth_log'] = np.log1p(df_KOI_selected['koi_depth'])  # +1 avoids log(0)\n"
     ]
    }
   ],
   "source": [
    "df_KOI_selected['koi_depth_log'] = np.log1p(df_KOI_selected['koi_depth'])  # +1 avoids log(0)"
   ]
  },
  {
   "cell_type": "code",
   "execution_count": 121,
   "id": "077a6c3d",
   "metadata": {},
   "outputs": [
    {
     "data": {
      "text/plain": [
       "<Axes: xlabel='koi_depth_log'>"
      ]
     },
     "execution_count": 121,
     "metadata": {},
     "output_type": "execute_result"
    },
    {
     "data": {
      "image/png": "[encoded data removed]",
      "text/plain": [
       "<Figure size 640x480 with 1 Axes>"
      ]
     },
     "metadata": {},
     "output_type": "display_data"
    }
   ],
   "source": [
    "sns.boxplot(x=df_KOI_selected['koi_depth_log'])"
   ]
  },
  {
   "cell_type": "code",
   "execution_count": 122,
   "id": "46684dff",
   "metadata": {},
   "outputs": [],
   "source": [
    "numerical_cols = df_KOI_selected.select_dtypes(include='number').columns.drop('koi_fpflag_nt')  # exclude binary flags optionally\n",
    "\n",
    "# In your Python backend: log_value = np.log1p(user_input)\n"
   ]
  },
  {
   "cell_type": "markdown",
   "id": "a6851921",
   "metadata": {},
   "source": [
    "### koi_teq — Equilibrium Temperature"
   ]
  },
  {
   "cell_type": "code",
   "execution_count": 123,
   "id": "33d878d9",
   "metadata": {},
   "outputs": [
    {
     "data": {
      "text/plain": [
       "<Axes: xlabel='koi_teq', ylabel='Count'>"
      ]
     },
     "execution_count": 123,
     "metadata": {},
     "output_type": "execute_result"
    },
    {
     "data": {
      "image/png": "[encoded data removed]",
      "text/plain": [
       "<Figure size 640x480 with 1 Axes>"
      ]
     },
     "metadata": {},
     "output_type": "display_data"
    }
   ],
   "source": [
    "sns.histplot(df_KOI_selected['koi_teq'], bins=50, kde=True)"
   ]
  },
  {
   "cell_type": "code",
   "execution_count": 124,
   "id": "941ae631",
   "metadata": {},
   "outputs": [
    {
     "data": {
      "text/plain": [
       "<Axes: xlabel='koi_teq'>"
      ]
     },
     "execution_count": 124,
     "metadata": {},
     "output_type": "execute_result"
    },
    {
     "data": {
      "image/png": "[encoded data removed]",
      "text/plain": [
       "<Figure size 640x480 with 1 Axes>"
      ]
     },
     "metadata": {},
     "output_type": "display_data"
    }
   ],
   "source": [
    "sns.boxplot(x=df_KOI_selected['koi_teq'])"
   ]
  },
  {
   "cell_type": "code",
   "execution_count": 125,
   "id": "278772a6",
   "metadata": {},
   "outputs": [
    {
     "name": "stderr",
     "output_type": "stream",
     "text": [
      "/tmp/ipykernel_15369/3950421238.py:1: SettingWithCopyWarning: \n",
      "A value is trying to be set on a copy of a slice from a DataFrame.\n",
      "Try using .loc[row_indexer,col_indexer] = value instead\n",
      "\n",
      "See the caveats in the documentation: https://pandas.pydata.org/pandas-docs/stable/user_guide/indexing.html#returning-a-view-versus-a-copy\n",
      "  df_KOI_selected['koi_teq_log'] = np.log1p(df_KOI_selected['koi_teq'])  # log1p avoids log(0)\n"
     ]
    }
   ],
   "source": [
    "df_KOI_selected['koi_teq_log'] = np.log1p(df_KOI_selected['koi_teq'])  # log1p avoids log(0)"
   ]
  },
  {
   "cell_type": "code",
   "execution_count": 126,
   "id": "60558ae0",
   "metadata": {},
   "outputs": [
    {
     "data": {
      "text/plain": [
       "<Axes: xlabel='koi_teq_log', ylabel='Count'>"
      ]
     },
     "execution_count": 126,
     "metadata": {},
     "output_type": "execute_result"
    },
    {
     "data": {
      "image/png": "[encoded data removed]",
      "text/plain": [
       "<Figure size 640x480 with 1 Axes>"
      ]
     },
     "metadata": {},
     "output_type": "display_data"
    }
   ],
   "source": [
    "sns.histplot(df_KOI_selected['koi_teq_log'], bins=40, kde=True)"
   ]
  },
  {
   "cell_type": "code",
   "execution_count": 127,
   "id": "7c92deee",
   "metadata": {},
   "outputs": [
    {
     "data": {
      "text/plain": [
       "<Axes: xlabel='koi_teq_log'>"
      ]
     },
     "execution_count": 127,
     "metadata": {},
     "output_type": "execute_result"
    },
    {
     "data": {
      "image/png": "[encoded data removed]",
      "text/plain": [
       "<Figure size 640x480 with 1 Axes>"
      ]
     },
     "metadata": {},
     "output_type": "display_data"
    }
   ],
   "source": [
    "sns.boxplot(x=df_KOI_selected['koi_teq_log'])"
   ]
  },
  {
   "cell_type": "code",
   "execution_count": 128,
   "id": "bc0c6188",
   "metadata": {},
   "outputs": [
    {
     "data": {
      "text/html": [
       "<div>\n",
       "<style scoped>\n",
       "    .dataframe tbody tr th:only-of-type {\n",
       "        vertical-align: middle;\n",
       "    }\n",
       "\n",
       "    .dataframe tbody tr th {\n",
       "        vertical-align: top;\n",
       "    }\n",
       "\n",
       "    .dataframe thead th {\n",
       "        text-align: right;\n",
       "    }\n",
       "</style>\n",
       "<table border=\"1\" class=\"dataframe\">\n",
       "  <thead>\n",
       "    <tr style=\"text-align: right;\">\n",
       "      <th></th>\n",
       "      <th>koi_teq</th>\n",
       "      <th>koi_prad</th>\n",
       "      <th>koi_period</th>\n",
       "    </tr>\n",
       "  </thead>\n",
       "  <tbody>\n",
       "    <tr>\n",
       "      <th>koi_teq</th>\n",
       "      <td>1.000000</td>\n",
       "      <td>-0.000948</td>\n",
       "      <td>-0.049275</td>\n",
       "    </tr>\n",
       "    <tr>\n",
       "      <th>koi_prad</th>\n",
       "      <td>-0.000948</td>\n",
       "      <td>1.000000</td>\n",
       "      <td>0.005101</td>\n",
       "    </tr>\n",
       "    <tr>\n",
       "      <th>koi_period</th>\n",
       "      <td>-0.049275</td>\n",
       "      <td>0.005101</td>\n",
       "      <td>1.000000</td>\n",
       "    </tr>\n",
       "  </tbody>\n",
       "</table>\n",
       "</div>"
      ],
      "text/plain": [
       "             koi_teq  koi_prad  koi_period\n",
       "koi_teq     1.000000 -0.000948   -0.049275\n",
       "koi_prad   -0.000948  1.000000    0.005101\n",
       "koi_period -0.049275  0.005101    1.000000"
      ]
     },
     "execution_count": 128,
     "metadata": {},
     "output_type": "execute_result"
    }
   ],
   "source": [
    "df_KOI_selected[['koi_teq', 'koi_prad', 'koi_period']].corr()\n"
   ]
  },
  {
   "cell_type": "markdown",
   "id": "397177ec",
   "metadata": {},
   "source": [
    "### koi_insol — Insolation Flux"
   ]
  },
  {
   "cell_type": "code",
   "execution_count": 140,
   "id": "b6333b24",
   "metadata": {},
   "outputs": [
    {
     "data": {
      "text/plain": [
       "<Axes: xlabel='koi_insol', ylabel='Count'>"
      ]
     },
     "execution_count": 140,
     "metadata": {},
     "output_type": "execute_result"
    },
    {
     "data": {
      "image/png": "[encoded data removed]",
      "text/plain": [
       "<Figure size 640x480 with 1 Axes>"
      ]
     },
     "metadata": {},
     "output_type": "display_data"
    }
   ],
   "source": [
    "sns.histplot(df_KOI_selected['koi_insol'], bins=20, kde=True)"
   ]
  },
  {
   "cell_type": "code",
   "execution_count": 141,
   "id": "b4720dc7",
   "metadata": {},
   "outputs": [
    {
     "name": "stderr",
     "output_type": "stream",
     "text": [
      "/tmp/ipykernel_15369/661036825.py:1: SettingWithCopyWarning: \n",
      "A value is trying to be set on a copy of a slice from a DataFrame.\n",
      "Try using .loc[row_indexer,col_indexer] = value instead\n",
      "\n",
      "See the caveats in the documentation: https://pandas.pydata.org/pandas-docs/stable/user_guide/indexing.html#returning-a-view-versus-a-copy\n",
      "  df_KOI_selected['koi_insol_log'] = np.log1p(df_KOI_selected['koi_insol'])  # log(1 + x) avoids log(0)\n"
     ]
    }
   ],
   "source": [
    "df_KOI_selected['koi_insol_log'] = np.log1p(df_KOI_selected['koi_insol'])  # log(1 + x) avoids log(0)"
   ]
  },
  {
   "cell_type": "code",
   "execution_count": 143,
   "id": "3698392a",
   "metadata": {},
   "outputs": [
    {
     "data": {
      "text/plain": [
       "<Axes: xlabel='koi_insol_log', ylabel='Count'>"
      ]
     },
     "execution_count": 143,
     "metadata": {},
     "output_type": "execute_result"
    },
    {
     "data": {
      "image/png": "[encoded data removed]",
      "text/plain": [
       "<Figure size 640x480 with 1 Axes>"
      ]
     },
     "metadata": {},
     "output_type": "display_data"
    }
   ],
   "source": [
    "sns.histplot(df_KOI_selected['koi_insol_log'], bins=20, kde=True)"
   ]
  },
  {
   "cell_type": "code",
   "execution_count": 144,
   "id": "686a8e35",
   "metadata": {},
   "outputs": [
    {
     "data": {
      "text/plain": [
       "<Axes: xlabel='koi_insol_log'>"
      ]
     },
     "execution_count": 144,
     "metadata": {},
     "output_type": "execute_result"
    },
    {
     "data": {
      "image/png": "[encoded data removed]",
      "text/plain": [
       "<Figure size 640x480 with 1 Axes>"
      ]
     },
     "metadata": {},
     "output_type": "display_data"
    }
   ],
   "source": [
    "sns.boxplot(x=df_KOI_selected['koi_insol_log'])"
   ]
  },
  {
   "cell_type": "markdown",
   "id": "b9947c76",
   "metadata": {},
   "source": [
    "### koi_model_snr --Model Signal-to-Noise Ratio"
   ]
  },
  {
   "cell_type": "code",
   "execution_count": 145,
   "id": "35a05d92",
   "metadata": {},
   "outputs": [
    {
     "data": {
      "text/plain": [
       "<Axes: xlabel='koi_model_snr', ylabel='Count'>"
      ]
     },
     "execution_count": 145,
     "metadata": {},
     "output_type": "execute_result"
    },
    {
     "data": {
      "image/png": "[encoded data removed]",
      "text/plain": [
       "<Figure size 640x480 with 1 Axes>"
      ]
     },
     "metadata": {},
     "output_type": "display_data"
    }
   ],
   "source": [
    "sns.histplot(df_KOI_selected['koi_model_snr'], bins=30, kde=True)"
   ]
  },
  {
   "cell_type": "code",
   "execution_count": 146,
   "id": "3a9d77a1",
   "metadata": {},
   "outputs": [
    {
     "name": "stderr",
     "output_type": "stream",
     "text": [
      "/tmp/ipykernel_15369/1989880242.py:1: SettingWithCopyWarning: \n",
      "A value is trying to be set on a copy of a slice from a DataFrame.\n",
      "Try using .loc[row_indexer,col_indexer] = value instead\n",
      "\n",
      "See the caveats in the documentation: https://pandas.pydata.org/pandas-docs/stable/user_guide/indexing.html#returning-a-view-versus-a-copy\n",
      "  df_KOI_selected['koi_model_snr_log'] = np.log1p(df_KOI_selected['koi_model_snr'])\n"
     ]
    }
   ],
   "source": [
    "df_KOI_selected['koi_model_snr_log'] = np.log1p(df_KOI_selected['koi_model_snr'])"
   ]
  },
  {
   "cell_type": "code",
   "execution_count": 148,
   "id": "a17b9962",
   "metadata": {},
   "outputs": [
    {
     "data": {
      "text/plain": [
       "<Axes: xlabel='koi_model_snr_log'>"
      ]
     },
     "execution_count": 148,
     "metadata": {},
     "output_type": "execute_result"
    },
    {
     "data": {
      "image/png": "[encoded data removed]",
      "text/plain": [
       "<Figure size 640x480 with 1 Axes>"
      ]
     },
     "metadata": {},
     "output_type": "display_data"
    }
   ],
   "source": [
    "sns.boxplot(x=df_KOI_selected['koi_model_snr_log'])"
   ]
  },
  {
   "cell_type": "markdown",
   "id": "46b71114",
   "metadata": {},
   "source": [
    "## Flags"
   ]
  },
  {
   "cell_type": "markdown",
   "id": "483e5063",
   "metadata": {},
   "source": [
    "### koi_fpflag_nt – Not Transit-Like Flag"
   ]
  },
  {
   "cell_type": "code",
   "execution_count": 150,
   "id": "824164f6",
   "metadata": {},
   "outputs": [
    {
     "data": {
      "text/plain": [
       "koi_fpflag_nt\n",
       "0      8033\n",
       "1      1530\n",
       "465       1\n",
       "Name: count, dtype: int64"
      ]
     },
     "execution_count": 150,
     "metadata": {},
     "output_type": "execute_result"
    }
   ],
   "source": [
    "df_KOI_selected['koi_fpflag_nt'].value_counts()\n"
   ]
  },
  {
   "cell_type": "code",
   "execution_count": null,
   "id": "7e74ddee",
   "metadata": {},
   "outputs": [
    {
     "ename": "KeyError",
     "evalue": "\"['koi_period', 'koi_duration', 'koi_depth', 'koi_prad', 'koi_teq', 'koi_insol', 'koi_model_snr', 'koi_fpflag_nt', 'koi_fpflag_ss', 'koi_fpflag_co', 'koi_fpflag_ec', 'koi_steff', 'koi_slogg', 'koi_srad', 'koi_kepmag', 'koi_disposition', 'koi_prad_log', 'koi_depth_log', 'koi_teq_log', 'koi_insol_log', 'koi_model_snr_log'] not found in axis\"",
     "output_type": "error",
     "traceback": [
      "\u001b[31m---------------------------------------------------------------------------\u001b[39m",
      "\u001b[31mKeyError\u001b[39m                                  Traceback (most recent call last)",
      "\u001b[36mCell\u001b[39m\u001b[36m \u001b[39m\u001b[32mIn[153]\u001b[39m\u001b[32m, line 1\u001b[39m\n\u001b[32m----> \u001b[39m\u001b[32m1\u001b[39m \u001b[43mdf_KOI_selected\u001b[49m\u001b[43m.\u001b[49m\u001b[43mdrop\u001b[49m\u001b[43m(\u001b[49m\u001b[43mdf_KOI_selected\u001b[49m\u001b[43m[\u001b[49m\u001b[43mdf_KOI_selected\u001b[49m\u001b[43m[\u001b[49m\u001b[33;43m'\u001b[39;49m\u001b[33;43mkoi_fpflag_nt\u001b[39;49m\u001b[33;43m'\u001b[39;49m\u001b[43m]\u001b[49m\u001b[43m==\u001b[49m\u001b[32;43m465\u001b[39;49m\u001b[43m]\u001b[49m\u001b[43m)\u001b[49m\n",
      "\u001b[36mFile \u001b[39m\u001b[32m~/anaconda3/envs/myenv/lib/python3.11/site-packages/pandas/core/frame.py:5588\u001b[39m, in \u001b[36mDataFrame.drop\u001b[39m\u001b[34m(self, labels, axis, index, columns, level, inplace, errors)\u001b[39m\n\u001b[32m   5440\u001b[39m \u001b[38;5;28;01mdef\u001b[39;00m\u001b[38;5;250m \u001b[39m\u001b[34mdrop\u001b[39m(\n\u001b[32m   5441\u001b[39m     \u001b[38;5;28mself\u001b[39m,\n\u001b[32m   5442\u001b[39m     labels: IndexLabel | \u001b[38;5;28;01mNone\u001b[39;00m = \u001b[38;5;28;01mNone\u001b[39;00m,\n\u001b[32m   (...)\u001b[39m\u001b[32m   5449\u001b[39m     errors: IgnoreRaise = \u001b[33m\"\u001b[39m\u001b[33mraise\u001b[39m\u001b[33m\"\u001b[39m,\n\u001b[32m   5450\u001b[39m ) -> DataFrame | \u001b[38;5;28;01mNone\u001b[39;00m:\n\u001b[32m   5451\u001b[39m \u001b[38;5;250m    \u001b[39m\u001b[33;03m\"\"\"\u001b[39;00m\n\u001b[32m   5452\u001b[39m \u001b[33;03m    Drop specified labels from rows or columns.\u001b[39;00m\n\u001b[32m   5453\u001b[39m \n\u001b[32m   (...)\u001b[39m\u001b[32m   5586\u001b[39m \u001b[33;03m            weight  1.0     0.8\u001b[39;00m\n\u001b[32m   5587\u001b[39m \u001b[33;03m    \"\"\"\u001b[39;00m\n\u001b[32m-> \u001b[39m\u001b[32m5588\u001b[39m     \u001b[38;5;28;01mreturn\u001b[39;00m \u001b[38;5;28;43msuper\u001b[39;49m\u001b[43m(\u001b[49m\u001b[43m)\u001b[49m\u001b[43m.\u001b[49m\u001b[43mdrop\u001b[49m\u001b[43m(\u001b[49m\n\u001b[32m   5589\u001b[39m \u001b[43m        \u001b[49m\u001b[43mlabels\u001b[49m\u001b[43m=\u001b[49m\u001b[43mlabels\u001b[49m\u001b[43m,\u001b[49m\n\u001b[32m   5590\u001b[39m \u001b[43m        \u001b[49m\u001b[43maxis\u001b[49m\u001b[43m=\u001b[49m\u001b[43maxis\u001b[49m\u001b[43m,\u001b[49m\n\u001b[32m   5591\u001b[39m \u001b[43m        \u001b[49m\u001b[43mindex\u001b[49m\u001b[43m=\u001b[49m\u001b[43mindex\u001b[49m\u001b[43m,\u001b[49m\n\u001b[32m   5592\u001b[39m \u001b[43m        \u001b[49m\u001b[43mcolumns\u001b[49m\u001b[43m=\u001b[49m\u001b[43mcolumns\u001b[49m\u001b[43m,\u001b[49m\n\u001b[32m   5593\u001b[39m \u001b[43m        \u001b[49m\u001b[43mlevel\u001b[49m\u001b[43m=\u001b[49m\u001b[43mlevel\u001b[49m\u001b[43m,\u001b[49m\n\u001b[32m   5594\u001b[39m \u001b[43m        \u001b[49m\u001b[43minplace\u001b[49m\u001b[43m=\u001b[49m\u001b[43minplace\u001b[49m\u001b[43m,\u001b[49m\n\u001b[32m   5595\u001b[39m \u001b[43m        \u001b[49m\u001b[43merrors\u001b[49m\u001b[43m=\u001b[49m\u001b[43merrors\u001b[49m\u001b[43m,\u001b[49m\n\u001b[32m   5596\u001b[39m \u001b[43m    \u001b[49m\u001b[43m)\u001b[49m\n",
      "\u001b[36mFile \u001b[39m\u001b[32m~/anaconda3/envs/myenv/lib/python3.11/site-packages/pandas/core/generic.py:4807\u001b[39m, in \u001b[36mNDFrame.drop\u001b[39m\u001b[34m(self, labels, axis, index, columns, level, inplace, errors)\u001b[39m\n\u001b[32m   4805\u001b[39m \u001b[38;5;28;01mfor\u001b[39;00m axis, labels \u001b[38;5;129;01min\u001b[39;00m axes.items():\n\u001b[32m   4806\u001b[39m     \u001b[38;5;28;01mif\u001b[39;00m labels \u001b[38;5;129;01mis\u001b[39;00m \u001b[38;5;129;01mnot\u001b[39;00m \u001b[38;5;28;01mNone\u001b[39;00m:\n\u001b[32m-> \u001b[39m\u001b[32m4807\u001b[39m         obj = \u001b[43mobj\u001b[49m\u001b[43m.\u001b[49m\u001b[43m_drop_axis\u001b[49m\u001b[43m(\u001b[49m\u001b[43mlabels\u001b[49m\u001b[43m,\u001b[49m\u001b[43m \u001b[49m\u001b[43maxis\u001b[49m\u001b[43m,\u001b[49m\u001b[43m \u001b[49m\u001b[43mlevel\u001b[49m\u001b[43m=\u001b[49m\u001b[43mlevel\u001b[49m\u001b[43m,\u001b[49m\u001b[43m \u001b[49m\u001b[43merrors\u001b[49m\u001b[43m=\u001b[49m\u001b[43merrors\u001b[49m\u001b[43m)\u001b[49m\n\u001b[32m   4809\u001b[39m \u001b[38;5;28;01mif\u001b[39;00m inplace:\n\u001b[32m   4810\u001b[39m     \u001b[38;5;28mself\u001b[39m._update_inplace(obj)\n",
      "\u001b[36mFile \u001b[39m\u001b[32m~/anaconda3/envs/myenv/lib/python3.11/site-packages/pandas/core/generic.py:4849\u001b[39m, in \u001b[36mNDFrame._drop_axis\u001b[39m\u001b[34m(self, labels, axis, level, errors, only_slice)\u001b[39m\n\u001b[32m   4847\u001b[39m         new_axis = axis.drop(labels, level=level, errors=errors)\n\u001b[32m   4848\u001b[39m     \u001b[38;5;28;01melse\u001b[39;00m:\n\u001b[32m-> \u001b[39m\u001b[32m4849\u001b[39m         new_axis = \u001b[43maxis\u001b[49m\u001b[43m.\u001b[49m\u001b[43mdrop\u001b[49m\u001b[43m(\u001b[49m\u001b[43mlabels\u001b[49m\u001b[43m,\u001b[49m\u001b[43m \u001b[49m\u001b[43merrors\u001b[49m\u001b[43m=\u001b[49m\u001b[43merrors\u001b[49m\u001b[43m)\u001b[49m\n\u001b[32m   4850\u001b[39m     indexer = axis.get_indexer(new_axis)\n\u001b[32m   4852\u001b[39m \u001b[38;5;66;03m# Case for non-unique axis\u001b[39;00m\n\u001b[32m   4853\u001b[39m \u001b[38;5;28;01melse\u001b[39;00m:\n",
      "\u001b[36mFile \u001b[39m\u001b[32m~/anaconda3/envs/myenv/lib/python3.11/site-packages/pandas/core/indexes/base.py:7136\u001b[39m, in \u001b[36mIndex.drop\u001b[39m\u001b[34m(self, labels, errors)\u001b[39m\n\u001b[32m   7134\u001b[39m \u001b[38;5;28;01mif\u001b[39;00m mask.any():\n\u001b[32m   7135\u001b[39m     \u001b[38;5;28;01mif\u001b[39;00m errors != \u001b[33m\"\u001b[39m\u001b[33mignore\u001b[39m\u001b[33m\"\u001b[39m:\n\u001b[32m-> \u001b[39m\u001b[32m7136\u001b[39m         \u001b[38;5;28;01mraise\u001b[39;00m \u001b[38;5;167;01mKeyError\u001b[39;00m(\u001b[33mf\u001b[39m\u001b[33m\"\u001b[39m\u001b[38;5;132;01m{\u001b[39;00mlabels[mask].tolist()\u001b[38;5;132;01m}\u001b[39;00m\u001b[33m not found in axis\u001b[39m\u001b[33m\"\u001b[39m)\n\u001b[32m   7137\u001b[39m     indexer = indexer[~mask]\n\u001b[32m   7138\u001b[39m \u001b[38;5;28;01mreturn\u001b[39;00m \u001b[38;5;28mself\u001b[39m.delete(indexer)\n",
      "\u001b[31mKeyError\u001b[39m: \"['koi_period', 'koi_duration', 'koi_depth', 'koi_prad', 'koi_teq', 'koi_insol', 'koi_model_snr', 'koi_fpflag_nt', 'koi_fpflag_ss', 'koi_fpflag_co', 'koi_fpflag_ec', 'koi_steff', 'koi_slogg', 'koi_srad', 'koi_kepmag', 'koi_disposition', 'koi_prad_log', 'koi_depth_log', 'koi_teq_log', 'koi_insol_log', 'koi_model_snr_log'] not found in axis\""
     ]
    }
   ],
   "source": [
    "df_KOI_selected = df_KOI_selected.drop(df_KOI_selected[df_KOI_selected['koi_fpflag_nt'] == 465].index)\n"
   ]
  },
  {
   "cell_type": "code",
   "execution_count": null,
   "id": "ab92d396",
   "metadata": {},
   "outputs": [],
   "source": []
  },
  {
   "cell_type": "code",
   "execution_count": null,
   "id": "e452ec17",
   "metadata": {},
   "outputs": [],
   "source": []
  },
  {
   "cell_type": "code",
   "execution_count": null,
   "id": "1c513405",
   "metadata": {},
   "outputs": [],
   "source": []
  },
  {
   "cell_type": "code",
   "execution_count": null,
   "id": "abc529f3",
   "metadata": {},
   "outputs": [],
   "source": []
  },
  {
   "cell_type": "code",
   "execution_count": null,
   "id": "21f1a41a",
   "metadata": {},
   "outputs": [],
   "source": []
  },
  {
   "cell_type": "code",
   "execution_count": null,
   "id": "946688b7",
   "metadata": {},
   "outputs": [],
   "source": []
  },
  {
   "cell_type": "code",
   "execution_count": 132,
   "id": "da8d6e1f",
   "metadata": {},
   "outputs": [
    {
     "data": {
      "text/plain": [
       "count      9564.000000\n",
       "mean         75.671358\n",
       "std        1334.744046\n",
       "min           0.241843\n",
       "25%           2.733684\n",
       "50%           9.752831\n",
       "75%          40.715178\n",
       "max      129995.778400\n",
       "Name: koi_period, dtype: float64"
      ]
     },
     "execution_count": 132,
     "metadata": {},
     "output_type": "execute_result"
    }
   ],
   "source": [
    "df_KOI_selected['koi_period'].describe()\n"
   ]
  },
  {
   "cell_type": "code",
   "execution_count": 133,
   "id": "f4c28932",
   "metadata": {},
   "outputs": [
    {
     "name": "stdout",
     "output_type": "stream",
     "text": [
      "Skewness: 96.4593261971373\n",
      "Kurtosis: 9389.73094569993\n"
     ]
    }
   ],
   "source": [
    "print(\"Skewness:\", df_KOI_selected['koi_period'].skew())\n",
    "print(\"Kurtosis:\", df_KOI_selected['koi_period'].kurt())\n"
   ]
  },
  {
   "cell_type": "code",
   "execution_count": 134,
   "id": "874ba72b",
   "metadata": {},
   "outputs": [],
   "source": [
    "df_full_outliers = df_KOI_selected.copy()  # Keep original for backup\n"
   ]
  },
  {
   "cell_type": "code",
   "execution_count": 135,
   "id": "f10c7240",
   "metadata": {},
   "outputs": [],
   "source": [
    "def cap_outliers_iqr(df, columns):\n",
    "    for col in columns:\n",
    "        Q1 = df[col].quantile(0.25)\n",
    "        Q3 = df[col].quantile(0.75)\n",
    "        IQR = Q3 - Q1\n",
    "        lower = Q1 - 1.5 * IQR\n",
    "        upper = Q3 + 1.5 * IQR\n",
    "        df[col] = df[col].clip(lower, upper)\n",
    "    return df\n",
    "\n",
    "numeric_cols = [\n",
    "    'koi_period', 'koi_duration', 'koi_depth', 'koi_prad',\n",
    "    'koi_teq', 'koi_insol', 'koi_model_snr',\n",
    "    'koi_steff', 'koi_slogg', 'koi_srad', 'koi_kepmag'\n",
    "]\n",
    "df_KOI_capped = cap_outliers_iqr(df_KOI_selected.copy(), numeric_cols)\n"
   ]
  },
  {
   "cell_type": "code",
   "execution_count": 136,
   "id": "ef610caf",
   "metadata": {},
   "outputs": [
    {
     "data": {
      "image/png": "[encoded data removed]",
      "text/plain": [
       "<Figure size 800x400 with 1 Axes>"
      ]
     },
     "metadata": {},
     "output_type": "display_data"
    },
    {
     "data": {
      "image/png": "[encoded data removed]",
      "text/plain": [
       "<Figure size 800x400 with 1 Axes>"
      ]
     },
     "metadata": {},
     "output_type": "display_data"
    },
    {
     "data": {
      "image/png": "[encoded data removed]",
      "text/plain": [
       "<Figure size 800x400 with 1 Axes>"
      ]
     },
     "metadata": {},
     "output_type": "display_data"
    },
    {
     "data": {
      "image/png": "[encoded data removed]",
      "text/plain": [
       "<Figure size 800x400 with 1 Axes>"
      ]
     },
     "metadata": {},
     "output_type": "display_data"
    },
    {
     "data": {
      "image/png": "[encoded data removed]",
      "text/plain": [
       "<Figure size 800x400 with 1 Axes>"
      ]
     },
     "metadata": {},
     "output_type": "display_data"
    },
    {
     "data": {
      "image/png": "[encoded data removed]",
      "text/plain": [
       "<Figure size 800x400 with 1 Axes>"
      ]
     },
     "metadata": {},
     "output_type": "display_data"
    },
    {
     "data": {
      "image/png": "[encoded data removed]",
      "text/plain": [
       "<Figure size 800x400 with 1 Axes>"
      ]
     },
     "metadata": {},
     "output_type": "display_data"
    },
    {
     "data": {
      "image/png": "[encoded data removed]",
      "text/plain": [
       "<Figure size 800x400 with 1 Axes>"
      ]
     },
     "metadata": {},
     "output_type": "display_data"
    },
    {
     "data": {
      "image/png": "[encoded data removed]",
      "text/plain": [
       "<Figure size 800x400 with 1 Axes>"
      ]
     },
     "metadata": {},
     "output_type": "display_data"
    },
    {
     "data": {
      "image/png": "[encoded data removed]",
      "text/plain": [
       "<Figure size 800x400 with 1 Axes>"
      ]
     },
     "metadata": {},
     "output_type": "display_data"
    },
    {
     "data": {
      "image/png": "[encoded data removed]",
      "text/plain": [
       "<Figure size 800x400 with 1 Axes>"
      ]
     },
     "metadata": {},
     "output_type": "display_data"
    },
    {
     "data": {
      "image/png": "[encoded data removed]",
      "text/plain": [
       "<Figure size 800x400 with 1 Axes>"
      ]
     },
     "metadata": {},
     "output_type": "display_data"
    },
    {
     "data": {
      "image/png": "[encoded data removed]",
      "text/plain": [
       "<Figure size 800x400 with 1 Axes>"
      ]
     },
     "metadata": {},
     "output_type": "display_data"
    },
    {
     "data": {
      "image/png": "[encoded data removed]",
      "text/plain": [
       "<Figure size 800x400 with 1 Axes>"
      ]
     },
     "metadata": {},
     "output_type": "display_data"
    },
    {
     "data": {
      "image/png": "[encoded data removed]",
      "text/plain": [
       "<Figure size 800x400 with 1 Axes>"
      ]
     },
     "metadata": {},
     "output_type": "display_data"
    },
    {
     "data": {
      "image/png": "[encoded data removed]",
      "text/plain": [
       "<Figure size 800x400 with 1 Axes>"
      ]
     },
     "metadata": {},
     "output_type": "display_data"
    }
   ],
   "source": [
    "# Boxplots for all numerical features\n",
    "for col in numerical_cols:\n",
    "    plt.figure(figsize=(8, 4))\n",
    "    sns.boxplot(x=df_KOI_capped[col].dropna())\n",
    "    plt.title(f'Boxplot of {col}')\n",
    "    plt.xlabel(col)\n",
    "    plt.show()"
   ]
  },
  {
   "cell_type": "code",
   "execution_count": 137,
   "id": "e59d1798",
   "metadata": {},
   "outputs": [
    {
     "data": {
      "text/plain": [
       "(9564, 19)"
      ]
     },
     "execution_count": 137,
     "metadata": {},
     "output_type": "execute_result"
    }
   ],
   "source": [
    "df_KOI_capped.shape"
   ]
  },
  {
   "cell_type": "code",
   "execution_count": 138,
   "id": "64332ae8",
   "metadata": {},
   "outputs": [
    {
     "data": {
      "text/plain": [
       "koi_period         0\n",
       "koi_duration       0\n",
       "koi_depth          0\n",
       "koi_prad           0\n",
       "koi_teq            0\n",
       "koi_insol          0\n",
       "koi_model_snr      0\n",
       "koi_fpflag_nt      0\n",
       "koi_fpflag_ss      0\n",
       "koi_fpflag_co      0\n",
       "koi_fpflag_ec      0\n",
       "koi_steff          0\n",
       "koi_slogg          0\n",
       "koi_srad           0\n",
       "koi_kepmag         0\n",
       "koi_disposition    0\n",
       "koi_prad_log       0\n",
       "koi_depth_log      0\n",
       "koi_teq_log        0\n",
       "dtype: int64"
      ]
     },
     "execution_count": 138,
     "metadata": {},
     "output_type": "execute_result"
    }
   ],
   "source": [
    "import os\n",
    "\n",
    "os.makedirs('data', exist_ok=True)\n",
    "df_KOI_capped.to_csv('data/df_KOI_capped.csv', index=False)\n",
    "df_full_outliers.isna().sum()\n"
   ]
  },
  {
   "cell_type": "code",
   "execution_count": null,
   "id": "457f2237",
   "metadata": {},
   "outputs": [],
   "source": []
  },
  {
   "cell_type": "code",
   "execution_count": null,
   "id": "a3be206e",
   "metadata": {},
   "outputs": [],
   "source": []
  }
 ],
 "metadata": {
  "kernelspec": {
   "display_name": "myenv",
   "language": "python",
   "name": "python3"
  },
  "language_info": {
   "codemirror_mode": {
    "name": "ipython",
    "version": 3
   },
   "file_extension": ".py",
   "mimetype": "text/x-python",
   "name": "python",
   "nbconvert_exporter": "python",
   "pygments_lexer": "ipython3",
   "version": "3.11.13"
  }
 },
 "nbformat": 4,
 "nbformat_minor": 5
}
